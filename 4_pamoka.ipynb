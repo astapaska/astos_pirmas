{
 "cells": [
  {
   "cell_type": "code",
   "execution_count": null,
   "metadata": {},
   "outputs": [],
   "source": [
    "#1a uzduotis\n",
    "skaicius1 = input(\"Įveskite pazymi:\") \n",
    "print(\"Įvestas pazymys1:\", skaicius1)\n",
    "skaicius2 = input(\"Įveskite pazymi:\") \n",
    "print(\"Įvestas pazymys2:\", skaicius2)\n",
    "skaicius3 = input(\"Įveskite pazymi:\") \n",
    "print(\"Įvestas pazymys3:\", skaicius3) #skaicius4 = input(\"Įveskite pazymi:\") print(\"Įvestas pazymys4:\", skaicius4)skaicius5 = input(\"Įveskite pazymi:\") #print(\"Įvestas pazymys5:\", skaicius5)\n",
    "masyvas = (skaicius1 + skaicius2 + skaicius3 #, skaicius4, skaicius5 \n",
    ")\n",
    "print(masyvas)\n",
    "\n",
    "# import statistics #masyvas = [skaicius1, skaicius2, skaicius3            #, skaicius4, skaicius5            ]\n",
    "# avg = statistics.mean(masyvas)\n",
    "\n"
   ]
  },
  {
   "cell_type": "code",
   "execution_count": 72,
   "metadata": {},
   "outputs": [
    {
     "name": "stdout",
     "output_type": "stream",
     "text": [
      "centimetrais = 3000 \n",
      " milimetrais = 30000 kilometrais = 0.03\n"
     ]
    }
   ],
   "source": [
    "#1b uzduotis\n",
    "metrai = input(\"Iveskite metrus:\" ) \n",
    "print(\"centimetrais =\", int(metrai)*100,\"\\n\",\n",
    "      \"milimetrais =\", int(metrai)*1000,\n",
    "       \"kilometrais =\", int(metrai)/1000)"
   ]
  },
  {
   "cell_type": "code",
   "execution_count": 75,
   "metadata": {},
   "outputs": [
    {
     "name": "stdout",
     "output_type": "stream",
     "text": [
      "Pirmas ir paskutinis elementai: Python kalba\n",
      "Kas antras elementai: ['yra', 'programavimo', 4]\n",
      "Priespaskutinio elemento tipas: <class 'str'>\n",
      "Pirmo elem. tipas: <class 'str'> Jis turi  6 simboliu\n"
     ]
    }
   ],
   "source": [
    "#2a uzduotis\n",
    "lst = [\"Python\", \"yra\", \"lengva\", \"programavimo\", \"kalba\",4]\n",
    "print(\"Pirmas ir paskutinis elementai:\",lst[0] , lst[-2])\n",
    "print(\"Kas antras elementai:\",lst[1::2])\n",
    "print(\"Priespaskutinio elemento tipas:\", type(lst[-2]))\n",
    "print(\"Pirmo elem. tipas:\", type(lst[0]),\"Jis turi \", len(lst[0]),\"simbolius\" )"
   ]
  },
  {
   "cell_type": "code",
   "execution_count": 1,
   "metadata": {},
   "outputs": [
    {
     "name": "stdout",
     "output_type": "stream",
     "text": [
      "yra: 10\n",
      "kas antras žodis: ['Aš', 'mėgstu', 'su', 'ir', 'su']\n"
     ]
    }
   ],
   "source": [
    "txt = \"Aš rytais mėgstu kavą su sumuštiniais ir arbatą su pyragu\"\n",
    "zodziais = txt.split()\n",
    "print(\"yra:\", len(zodziais))\n",
    "print(\"kas antras žodis:\",txt.split()[::2])"
   ]
  }
 ],
 "metadata": {
  "kernelspec": {
   "display_name": "Python 3",
   "language": "python",
   "name": "python3"
  },
  "language_info": {
   "codemirror_mode": {
    "name": "ipython",
    "version": 3
   },
   "file_extension": ".py",
   "mimetype": "text/x-python",
   "name": "python",
   "nbconvert_exporter": "python",
   "pygments_lexer": "ipython3",
   "version": "3.13.0"
  }
 },
 "nbformat": 4,
 "nbformat_minor": 2
}
