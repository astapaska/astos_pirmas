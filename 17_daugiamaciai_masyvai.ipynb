{
 "cells": [
  {
   "cell_type": "code",
   "execution_count": null,
   "metadata": {},
   "outputs": [],
   "source": [
    "'''Čia gerai pažingsniui aiškina ciklą cikle, \n",
    "taip pat eiliškumą einat per matricą pagal x ir y ašių logiką'''"
   ]
  },
  {
   "cell_type": "code",
   "execution_count": null,
   "metadata": {},
   "outputs": [],
   "source": [
    "\n",
    "#Sugeneruokite sąrašą iš 10 elementų, kurio elementai būtų sąrašai iš 5 elementų su reikšmėmis nuo 5 iki 25.\n",
    "# Pvz: [\n",
    "# \t[5, 18, 25 .. ]\n",
    "# \t[20, 6, 23 .. ]  ]\n",
    "'''isideti cikla cikle, kad gauti kiek nori rinkiniu'''\n",
    "import random\n",
    "\n",
    "def randomList(ilgis):\n",
    "    rezult=[]\n",
    "    for x in range(10):\n",
    "        for setas in range(ilgis):\n",
    "            rezult.append([random.randint(1,15)])\n",
    "        return rezult\n",
    "    \n",
    "rezult = (randomList(5),randomList(5))\n",
    "print(rezult)  "
   ]
  },
  {
   "cell_type": "code",
   "execution_count": null,
   "metadata": {},
   "outputs": [],
   "source": [
    "#generuojam - lektoriaus sprendimas\n",
    "import random\n",
    "\n",
    "def randomList(ilgis, numberCount):\n",
    "    rezult.append(numberCount)\n",
    "    for x in range(10):\n",
    "        for setas in range(ilgis):\n",
    "            rezult.append([random.randint(1,15)])\n",
    "        return rezult\n",
    "    \n",
    "rezult = (randomList(5))\n",
    "print(rezult) "
   ]
  },
  {
   "cell_type": "code",
   "execution_count": null,
   "metadata": {},
   "outputs": [],
   "source": [
    "# Priimdami sąrašą kaip parametrą aprašykite funkcijas kurios:\n",
    "# Suskaičiuotų kiek sąrašuose yra elementų didesnių už 10;\n",
    "# Rastų didžiausio elemento reikšmę;\n",
    "# Suskaičiuotų kiekvieno antro lygio sąrašo su vienodais indeksais sumas (t.y. suma reikšmių turinčių indeksą 0, 1 ir t.t.)\n",
    "# Pavyzdinis rezultatas: [25, 24, 48]\n",
    "data = randomList(5)\n",
    "print(data)\n",
    "\n",
    "def biggerThanTen(data):\n",
    "    numb = 0\n",
    "    for x in data:\n",
    "        if data > 10:\n",
    "            numb +=1\n",
    "\n",
    " \n",
    "    \n",
    "# Aprašykite funkciją kuri priimtų skaičių masyvą ir suskaičiuotų visų jame esančių reikšmių sumą kurios yra didesnės nei 10\n",
    "\n",
    "# def salyga(skaicius, riba) :\n",
    "#     if skaicius > riba :\n",
    "#         return skaicius\n",
    "#     else : \n",
    "#         return 0\n",
    "\n",
    "# def suma(data, riba) :\n",
    "#     suma = 0\n",
    "#     for skaicius in data :\n",
    "#         suma += salyga(skaicius, riba)\n",
    "#     return suma\n",
    "# # Suma skaiciu kurie yra didesni nei 10\n",
    "# print(suma([15, 5, 4, 22], 10))\n",
    "# # Suma skaiciu kurie yra didesni nei 15\n",
    "# print(suma([15, 5, 4, 22], 15))"
   ]
  },
  {
   "cell_type": "code",
   "execution_count": 40,
   "metadata": {},
   "outputs": [
    {
     "name": "stdout",
     "output_type": "stream",
     "text": [
      "([11, 1, 4, 1, 2], [5, 15, 7, 11, 6])\n",
      "3\n"
     ]
    }
   ],
   "source": [
    "data = (randomList(5), randomList(5))\n",
    "print(data)\n",
    "numb = 0\n",
    "for x in data:\n",
    "    for y in x:\n",
    "        if y > 10:\n",
    "            numb +=1\n",
    "    #     print(y)\n",
    "    # print(x)\n",
    "print(numb)"
   ]
  },
  {
   "cell_type": "code",
   "execution_count": null,
   "metadata": {},
   "outputs": [],
   "source": [
    "##----- Mariaus sprendimas\n",
    "# Suskaičiuotų kiekvieno antro lygio sąrašo su vienodais indeksais sumas (t.y. suma reikšmių turinčių indeksą 0, 1 ir t.t.)\n",
    "# Pavyzdinis rezultatas: [25, 24, 48]\n",
    "def similar_index_values(sarasas):\n",
    "     all_values =[sum(values) \n",
    "     for values in zip(*sarasas)]\n",
    "     return all_values\n",
    "sum_similar_indexes = similar_index_values(sarasas)       \n",
    "print(sarasas)\n",
    "print(sum_similar_indexes)"
   ]
  },
  {
   "cell_type": "code",
   "execution_count": null,
   "metadata": {},
   "outputs": [],
   "source": [
    "#Visus antro lygio sąrašus“pailginkitų” iki 7 elementų\n"
   ]
  },
  {
   "cell_type": "code",
   "execution_count": null,
   "metadata": {},
   "outputs": [],
   "source": [
    "#Suskaičiuotų kiekvieno iš antro lygio sąrašų elementų sumas ir jas panaudotų kaip reikšmes sukuriant naują masyvą. \n",
    "#Pavyzdinis rezultatas: [48, 49]"
   ]
  }
 ],
 "metadata": {
  "kernelspec": {
   "display_name": "Python 3",
   "language": "python",
   "name": "python3"
  },
  "language_info": {
   "codemirror_mode": {
    "name": "ipython",
    "version": 3
   },
   "file_extension": ".py",
   "mimetype": "text/x-python",
   "name": "python",
   "nbconvert_exporter": "python",
   "pygments_lexer": "ipython3",
   "version": "3.13.0"
  }
 },
 "nbformat": 4,
 "nbformat_minor": 2
}
