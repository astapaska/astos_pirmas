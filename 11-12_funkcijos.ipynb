{
 "cells": [
  {
   "cell_type": "code",
   "execution_count": 76,
   "metadata": {},
   "outputs": [
    {
     "name": "stdout",
     "output_type": "stream",
     "text": [
      "Labas viviems\n",
      "15\n"
     ]
    }
   ],
   "source": [
    "def pasisveikinimas() :\n",
    "    print(\"Labas viviems\")\n",
    "#iskvietimas:\n",
    "pasisveikinimas()\n",
    "\n",
    "#toliau\n",
    "def sum(pirmasParametras, antrasParametras):\n",
    "    print(pirmasParametras + antrasParametras)\n",
    "#iskvietimas:\n",
    "sum(12, 3)"
   ]
  },
  {
   "cell_type": "code",
   "execution_count": 80,
   "metadata": {},
   "outputs": [
    {
     "name": "stdout",
     "output_type": "stream",
     "text": [
      "['a', 'd']\n",
      "[1, 2]\n"
     ]
    }
   ],
   "source": [
    "#1Parašyti funkciją, kuri priima sąrašą ir grąžina naują sąrašą su paskutiniu ir pirmu elementais iš pirmojo sąrašo.\n",
    "# PVZ: [1,2,3,4,5,6,7,8,9] ats: [1,9] ------tlist = list(t)\n",
    "#t=(133, 56, 2, 3, 4, 5, 6, 76, 44)\n",
    "\n",
    "def naujasSarasas(data):\n",
    "   return([data[0], data[-1]])\n",
    "t=(1,3,5,7,9,13)\n",
    "abc=(\"a\",\"b\", \"c\",\"d\")\n",
    "\n",
    "print(naujasSarasas(abc))\n",
    "print(naujasSarasas(l))"
   ]
  },
  {
   "cell_type": "code",
   "execution_count": 15,
   "metadata": {},
   "outputs": [
    {
     "data": {
      "text/plain": [
       "(26, 'Tesise atimtos')"
      ]
     },
     "execution_count": 15,
     "metadata": {},
     "output_type": "execute_result"
    }
   ],
   "source": [
    "#2greičiui tikrinti: Funkcija paima argumentą - automobilio greitį. Jei greitis 50 ar mažesnis, funkcija grąžina\n",
    "#”Ok”, jei greitis didesnis nei 50 - už kiekvieną 5km/h greičio viršijimą duodamas baudos taškas (pvz: greitis 70, atsakymas \n",
    "# - 4) Jei surenkami 8 taškai ir daugiau - funkcija ne tik grąžina taškų sumą, bet ir priduria, jog vairuotojo teisės atimamos.\n",
    "import math\n",
    "\n",
    "\n",
    "def greicioTikrinimas(greitis):\n",
    "    taskai=0\n",
    "\n",
    "    if greitis > 50:\n",
    "        taskai = math.floor((greitis - 50)/5)\n",
    "\n",
    "    if taskai == 0 :\n",
    "        return \"OK\"\n",
    "    elif taskai < 8 : \n",
    "        return taskai\n",
    "    else: \n",
    "        return taskai, \"Teises atimtos\"\n",
    "\n",
    "greicioTikrinimas(180)"
   ]
  },
  {
   "cell_type": "code",
   "execution_count": 45,
   "metadata": {},
   "outputs": [
    {
     "name": "stdout",
     "output_type": "stream",
     "text": [
      "['Aijnuniekaip']\n"
     ]
    }
   ],
   "source": [
    "#3funkciją, kuri priima tekstą ir grąžina atgal tekstą su apkeistom pirma ir paskutine raidėmis. PVZ: Rytas sytaR.\n",
    "\n",
    "def apkeistiRaides(txt):\n",
    "    return txt[-1] + txt[1:-1] + txt[0:1]\n",
    "\n",
    "    txt = (\"Aijnuniekaip\")\n",
    "\n",
    "apkeistiRaides(txt.split())"
   ]
  },
  {
   "cell_type": "code",
   "execution_count": null,
   "metadata": {},
   "outputs": [],
   "source": [
    "#4Parašyti funkciją, kuri paima ir parašo žodį iš kitos pusės. PVZ.: Dangus sugnaD.\n",
    "txt = \"Labas\"\n",
    "for raide in txt :\n",
    "    print(raide)\n",
    "#sprendimas sprendimuose"
   ]
  },
  {
   "cell_type": "code",
   "execution_count": 74,
   "metadata": {},
   "outputs": [
    {
     "name": "stdout",
     "output_type": "stream",
     "text": [
      "[40, 36, 6, 73, 66, 33, 35, 73, 60, 62, 38, 77, 19, 64, 72, 21, 20] \n",
      " [58, 58, 44, 91, 80, 38, 55, 21, 91, 85, 22, 95, 92, 49, 93, 20, 39, 47, 99]\n"
     ]
    }
   ],
   "source": [
    "#5.f-ją kurioje sugeneruojamos dvi skaičių sekos (gali būti skirtingo dydžio), programa turi grąžinti sąrašą skaičių, \n",
    "# kurie sutampa tarp dviejų sugeneruotu sąrašų, galutiniam sąraše neturi būti dublių. \n",
    "#PVZ:x=[1, 1, 2, 3, 1] y=[1, 3, 5, 6] atsakymas = [1,3]\n",
    "import random\n",
    "seka1=[]\n",
    "seka2=[]\n",
    "#def sukerta(seka1, seka2) : \n",
    "for x in range(17):\n",
    "    seka1.append(random.randint(0, 80))\n",
    "    #seka1.append(str(random.randint(0, 80)))\n",
    "for y in range(19):\n",
    "    seka2.append(random.randint(20, 100))\n",
    "    #seka2.append(str(random.randint(70, 100))) \n",
    "\n",
    "#print(\"bendri:\",seka1.intersection(seka2))\n",
    "print(seka1, '\\n', seka2)\n",
    "\n",
    "###------pažiūrėti sprendimą"
   ]
  }
 ],
 "metadata": {
  "kernelspec": {
   "display_name": "Python 3",
   "language": "python",
   "name": "python3"
  },
  "language_info": {
   "codemirror_mode": {
    "name": "ipython",
    "version": 3
   },
   "file_extension": ".py",
   "mimetype": "text/x-python",
   "name": "python",
   "nbconvert_exporter": "python",
   "pygments_lexer": "ipython3",
   "version": "3.13.0"
  }
 },
 "nbformat": 4,
 "nbformat_minor": 2
}
