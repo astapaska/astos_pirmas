{
 "cells": [
  {
   "cell_type": "code",
   "execution_count": null,
   "metadata": {},
   "outputs": [],
   "source": [
    "##dėstytojo pvz. aiškinant random\n",
    "import random \n",
    "rezultatas = []\n",
    "\n",
    "for x in range(17):\n",
    "    rezultatas.append(str(random.randint(0, 61)))\n",
    "print(\" \".join(rezultatas))"
   ]
  },
  {
   "cell_type": "code",
   "execution_count": 103,
   "metadata": {},
   "outputs": [
    {
     "name": "stdout",
     "output_type": "stream",
     "text": [
      "dideliu nei 150 yra:  157\n",
      "163 110 227 182 125 [293] 266 182 233 192 235 40 175 137 157 138 261 135 224 57 88 165 184 211 120 203 143 224 70 137 43 266 257 237 63 88 177 51 129 164 194 163 269 36 93 161 198 23 264 15 149 215 242 66 [298] 143 [282] 135 192 71 189 65 42 258 0 168 [280] 191 205 259 104 2 64 101 5 253 53 [280] 64 120 146 78 117 239 [293] 221 161 245 213 20 115 140 5 28 112 [277] 85 143 14 116 112 272 260 104 5 201 112 255 139 108 274 107 207 [286] 230 153 269 193 252 164 244 58 132 105 244 110 157 225 145 91 218 32 80 70 76 134 220 145 60 241 219 158 172 210 228 241 159 95 90 [296] 195 275 249 252 125 144 [294] 86 192 71 4 3 219 149 138 70 101 240 167 223 71 176 249 268 133 [298] 228 [295] 190 5 195 164 26 7 96 12 275 42 91 247 203 79 79 33 161 151 237 80 150 60 190 [280] 115 216 107 137 101 208 82 14 [289] [286] 171 45 125 51 271 156 193 12 151 187 20 [290] 56 271 1 39 164 118 218 88 167 233 54 54 186 233 259 103 36 59 139 152 178 3 77 268 126 220 124 14 262 240 118 42 179 17 123 242 64 225 202 100 235 201 180 190 8 68 98 198 203 202 242 [297] 244 178 190 [285] 93 180 191 218 197 167 148 181 243 30 85 61 8 19 146 28 219 218 153 95\n"
     ]
    }
   ],
   "source": [
    "#1.Sugeneruokite 300 atsitiktinių skaičių nuo 0 iki 300, atspausdinkite juos atskirtus tarpais ir suskaičiuokite kiek 1\n",
    "# tarp jų yra didesnių už 150.  Skaičiai didesni nei 275 turi būti atspausdinti skliausteliuose” [ ] “.\n",
    "import random \n",
    "rezultatas = []\n",
    "didesninei150 = 0\n",
    "\n",
    "for x in range(300):\n",
    "    skaicius =random.randint(0, 300)\n",
    "    if skaicius > 150 :\n",
    "        didesninei150 += 1\n",
    "   \n",
    "    if skaicius > 275 :\n",
    "        rezultatas.append(f\"[{str(skaicius)}]\")   \n",
    "    else : \n",
    "        rezultatas.append(str(skaicius))   \n",
    "\n",
    "print(\"dideliu nei 150 yra: \", didesninei150 )\n",
    "print(\" \".join(rezultatas))"
   ]
  },
  {
   "cell_type": "code",
   "execution_count": null,
   "metadata": {},
   "outputs": [],
   "source": [
    "##Vienoje eilutėje atspausdinkite visus skaičius nuo 1 iki 3000, kurie dalijasi iš 77 be liekanos. \n",
    "##Skaičius atskirkite kableliais. Po paskutinio skaičiaus kablelio neturi būti\n",
    "rezultatas = []\n",
    "for num in range(1,3001) :\n",
    "    if num % 77 == 0 :\n",
    "       rezultatas.append(str(num)) #rezultatas.append(f\"{str(num)}\")\n",
    "print(\", \".join(rezultatas))"
   ]
  },
  {
   "cell_type": "code",
   "execution_count": 124,
   "metadata": {},
   "outputs": [
    {
     "name": "stdout",
     "output_type": "stream",
     "text": [
      "* * * * * \n",
      "*       * \n",
      "*       * \n",
      "*       * \n",
      "* * * * * \n"
     ]
    }
   ],
   "source": [
    "#Nupieškite tuščiavidurį kvadratą iš vartotojo įvedamo simbolio, kurio kraštinių kiekį taipogi leiskite įvesti vartotojui.\n",
    "simb ='* ' #input(\"{iveskite simbboli}\") \n",
    "sk = 5\n",
    "for y in range(sk) : \n",
    "    if y == 0 or y == sk -1:\n",
    "        print(simb*sk)\n",
    "    else :\n",
    "        print(simb + \"  \"*(sk-2)+simb)"
   ]
  },
  {
   "cell_type": "code",
   "execution_count": 165,
   "metadata": {},
   "outputs": [
    {
     "name": "stdout",
     "output_type": "stream",
     "text": [
      "@ - - - @ \n",
      "- @ - @ - \n",
      "- - @ - - \n",
      "- @ - @ - \n",
      "@ - - - @ \n"
     ]
    }
   ],
   "source": [
    "#Prieš tai nupieštam kvadratui nupieškite istrižaines zvaigzdutę pakeisdami kitu simboliu. \n",
    "# Simbolį paprašykite įvesti vartotojo\n",
    "simb = '-'\n",
    "sim2 = \"@\"\n",
    "sk = 5\n",
    "for y in range(sk) : \n",
    " #simbolio indeksas yra pirma eilutė pirmas (0) stulpelis, tai simb=5; tada sekančioj eil. ieškom sekančio indeksas ir =5   \n",
    "   for x in range(sk):\n",
    "      if y == x or y + x == sk-1 :\n",
    "         print(sim2, end=\" \")\n",
    "      else :\n",
    "         print(simb, end=\" \")\n",
    "   print()"
   ]
  },
  {
   "cell_type": "code",
   "execution_count": 178,
   "metadata": {},
   "outputs": [
    {
     "name": "stdout",
     "output_type": "stream",
     "text": [
      "-@------------\n",
      "---@----------\n",
      "-----@--------\n",
      "-------@------\n",
      "---------@----\n",
      "-----------@--\n",
      "-------------@\n"
     ]
    }
   ],
   "source": [
    "simb = '-'\n",
    "sim2 = \"@\"\n",
    "sk =7\n",
    "\n",
    "for y in range(sk) :\n",
    "    eilute =\"\"\n",
    "    for x in range (sk):\n",
    "        eilute+=simb\n",
    "        if y == x :\n",
    "            eilute+=sim2\n",
    "        else :\n",
    "            eilute+=simb\n",
    "    print(eilute)\n",
    "    "
   ]
  },
  {
   "cell_type": "code",
   "execution_count": 187,
   "metadata": {},
   "outputs": [
    {
     "name": "stdout",
     "output_type": "stream",
     "text": [
      "False\n"
     ]
    }
   ],
   "source": [
    "import random\n",
    "sustojo = False\n",
    "while not sustojo :\n",
    "     print(\"sukasi\")"
   ]
  },
  {
   "cell_type": "code",
   "execution_count": null,
   "metadata": {},
   "outputs": [],
   "source": [
    "#Metam monetą. Monetos kritimo rezultatą imituojam random.randomint() funkcija, kur 0 yra herbas, o 1 - skaičius. \n",
    "# Monetos metimo rezultatus išvedame į ekraną atskiroje eilutėje: “S” jeigu iškrito skaičius ir “H” jeigu herbas. \n",
    "# Suprogramuokite tris skirtingus scenarijus kai monetos metimą stabdome:\n",
    "\n",
    "import random\n",
    "#i.kritus herbui\n",
    "while True :\n",
    "    if random.randint(0,1) == 0:\n",
    "        print(\"H\")\n",
    "        break\n",
    "    else:\n",
    "        print(\"S\")\n",
    "\n",
    "##triskart iskritus herbui\n",
    "count =0\n",
    "max = 3\n",
    "while count < max :\n",
    "    if random.randint(0,1) == 0:\n",
    "        print(\"H\")\n",
    "        count += 1\n",
    "    else:\n",
    "        print(\"S\")\n",
    "\n",
    "##triskart is eiles iskritus herbui\n",
    "count =0\n",
    "max = 3\n",
    "while count < max :\n",
    "    if random.randint(0,1) == 0:\n",
    "        print(\"H\")\n",
    "        count += 1\n",
    "    else :\n",
    "        print(\"S\")\n",
    "        count =0"
   ]
  }
 ],
 "metadata": {
  "kernelspec": {
   "display_name": "Python 3",
   "language": "python",
   "name": "python3"
  },
  "language_info": {
   "codemirror_mode": {
    "name": "ipython",
    "version": 3
   },
   "file_extension": ".py",
   "mimetype": "text/x-python",
   "name": "python",
   "nbconvert_exporter": "python",
   "pygments_lexer": "ipython3",
   "version": "3.13.0"
  }
 },
 "nbformat": 4,
 "nbformat_minor": 2
}
