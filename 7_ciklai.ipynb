{
 "cells": [
  {
   "cell_type": "code",
   "execution_count": null,
   "metadata": {},
   "outputs": [],
   "source": [
    "#Išveskite kvadratą, sudarytą iš įvesto simbolio ir kurio kraštinė būtų lygi įvestam skaičiui.\n",
    "# tikrinma ar tikrai ivestas simbolis ir bxtinai reiki ivesti simboli\n",
    "simb = input('Iveskite simboli')\n",
    "sk = int(input('Iveskite skaiciu'))\n",
    "for kvadratas in range(sk) : \n",
    "    print(simb*sk)\n",
    "\n",
    "# #kitas variantas tikrinma ar tikrai ivestas simbolis\n",
    "# simb = input('Iveskite simboli')\n",
    "# while True:\n",
    "#     if simb == \" \" :\n",
    "#        simb =  input('Iveskite simboli')\n",
    "#     else: \n",
    "#         break\n",
    "# sk = int(input('Iveskite skaiciu'))\n",
    "# for indeksas in range(sk) : \n",
    "#     print(simb*sk)"
   ]
  },
  {
   "cell_type": "code",
   "execution_count": null,
   "metadata": {},
   "outputs": [],
   "source": [
    "#2.Spausdinkite tik tuos miestus, kurių pavadinimai ilgesni nei 6 simboliai.\n",
    "miestai = ['Vilnius','Kaunas','Alytus','Rokiškis','Ūla','Mažeikiai','Akmena','Dzin']\n",
    "print(len(miestai))\n",
    "\n",
    "for pavadinimas in miestai:\n",
    "    if len(pavadinimas)>4:\n",
    "        print(pavadinimas) \n",
    "    else: \n",
    "        print(\"olialia koks trumpas pavadinimas\")"
   ]
  },
  {
   "cell_type": "code",
   "execution_count": null,
   "metadata": {},
   "outputs": [],
   "source": [
    "#3.Išspausdinkite ”pusinę” eglutę iš simbolio '*': Eglutės ilgį (eilučių kiekį) turi įvesti vartotojas. Eglutei naudojamą\n",
    "#simbolį tegul įveda irgi vartotojas.\n",
    "simb = input('Iveskite eglutes simboli')\n",
    "aukstis = int(input('Iveskite eglutes auksti'))\n",
    "simb1= simb\n",
    "\n",
    "for indeksas in range(aukstis) :\n",
    "      print(simb1) \n",
    "      simb1 = (f\"{simb1}{simb}\") \n",
    "\n",
    "# niuuu kitas aprašymas\n",
    "# for indeksas in range(aukstis) :\n",
    "#       print(simb * (indeksas+1))\n",
    "\n",
    "# ne pusinei eglutei - galima naudoti  .center() arba apsirasyti tarpus pries simbolius"
   ]
  },
  {
   "cell_type": "code",
   "execution_count": 40,
   "metadata": {},
   "outputs": [
    {
     "name": "stdout",
     "output_type": "stream",
     "text": [
      "aš ryTaiS mĖgsTu KavĄ sU sUmuŠtiNiaIs Ir ArbAtą\n"
     ]
    }
   ],
   "source": [
    "t = \"Aš rytais mėgstu kavą su sumuštiniais ir arbatą\"\n",
    "\n",
    "# #+++++Išveskite po vieną simbolį iš teksto. Šalia nurodykite ir simbolio poziciją (indeksą) tekste.\n",
    "# for raide,indeksas in enumerate(t) :\n",
    "#     print(raide,indeksas)\n",
    "\n",
    "##???????Išvesdami simbolį, spausdinkite jį viršutiniame registre, jei jis yra lyginėje pozicijoje. Kitu atveju - žemutiniame registre. Dar pridedam, kad tarpų neimam\n",
    "# for indeksas,raide  in enumerate(t) :\n",
    "#     if raide == \" \":\n",
    "#         continue\n",
    "#     if indeksas %2 == 0\n",
    "#        print(raide.upper())\n",
    "#        print(raide(lowe))\n",
    "#    # else : print('fignia')\n",
    "\n",
    "# #+++++Išveskite po vieną žodį.\n",
    "# for zodziai in t.split() :\n",
    "#     print(zodziai)\n",
    "\n",
    "#-----Išveskite tik tuos žodžs, kurie yra ilgesni nei nurodytas simbolių kiekis, ir savyje turi nurodytą tekstą. \n",
    "#Ilgį ir tekstą nurodo vartotojas.\n",
    "\n",
    "# ilgis=int(input('Iveskite norimu spausdinti simboliu kieki'))\n",
    "# txt=input('Iveskite kokio teksto ieskosite')\n",
    "\n",
    "# for zodis in t.split() :\n",
    "#     if len(zodis)> ilgis and txt in zodis in zodis.lower(): #zodis.lower() siaip sau ivedem papildoma salyga\n",
    "#                 print(zodis) \n",
    "#     # else : \n",
    "#     #     print(\"fignia, neradau nieko\")\n",
    "\n",
    "# #+++++Išveskite tekstą (visą vienu metu), kuriame būtų kas antras žodis parašytas didžiosiomis raidėmis.\n",
    "# #ne taip supratau salyga: print(t[0:len(t):2].upper())\n",
    "# rezultatas = []\n",
    "# for indeksas, zodis in enumerate(t.split()):\n",
    "#     if indeksas %2 != 0:\n",
    "#        rezultatas.append((zodis.upper()))\n",
    "#     else: \n",
    "#         rezultatas.append(zodis)\n",
    "# print(rezultatas)\n",
    "# \" \".join(rezultatas)\n",
    "\n",
    "\n",
    "#+++++++Išveskite tekstą su kas n-tuoju simboliu viršutiniame registre. n įveda vartotojas.\n",
    "# ###bad: print(t[kuris:len(t):kuris].upper())\n",
    "\n",
    "n =3 # int(input('Iveskite simbolio pozicija'))\n",
    "rezultatas = []\n",
    "\n",
    "for indeksas, simbolis in enumerate(t):\n",
    "    #if indeksas ==0\n",
    "    if (indeksas+1) % n == 0:\n",
    "        rezultatas.append(simbolis.upper())\n",
    "    else:     \n",
    "        rezultatas.append(simbolis.lower())\n",
    "print(\"\".join(rezultatas))"
   ]
  }
 ],
 "metadata": {
  "kernelspec": {
   "display_name": "Python 3",
   "language": "python",
   "name": "python3"
  },
  "language_info": {
   "codemirror_mode": {
    "name": "ipython",
    "version": 3
   },
   "file_extension": ".py",
   "mimetype": "text/x-python",
   "name": "python",
   "nbconvert_exporter": "python",
   "pygments_lexer": "ipython3",
   "version": "3.13.0"
  }
 },
 "nbformat": 4,
 "nbformat_minor": 2
}
