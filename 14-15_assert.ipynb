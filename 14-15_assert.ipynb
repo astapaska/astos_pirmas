{
 "cells": [
  {
   "cell_type": "code",
   "execution_count": null,
   "metadata": {},
   "outputs": [],
   "source": [
    "#1.Aprašykite funkciją kuri patikrinintų duomenis ir grąžintų visų produktų kainos sumą, bei įvertinimo vidurkį.\n",
    "#2.iš vieno iš produktų žodyno pašalinkite kainos raktažodį su reikšme. Modifikuokite funkciją, jog iš išmestų klaidą (assert),\n",
    "# jeigu prie duomenų truksta bent vienos nurodytos kainos\n",
    "\n",
    "def patikrai(duomenys) :\n",
    "    sumKainu = 0 \n",
    "    \n",
    "    for x in duomenys:\n",
    "        sumKainu = sum(x[\"kaina\"])\n",
    "        return sumKainu\n",
    "    #     if duomenys[1] > 0:\n",
    "    #         sumKainu += x[\"kaina\"]\n",
    "    #         print(sumKainu) \n",
    "    # else:\n",
    "    #     print(\"Beda\")\n",
    "    duomenys = [\n",
    "    {   \"pavadinimas\": \"3-jų lentynų komplektas Tobi 3P, baltas\",\n",
    "        \"kaina\": 49.41,\n",
    "        \"ivertinimas\": 3.7    },\n",
    "    {   \"pavadinimas\": \"Pakabinama sieninė lentyna Bilbao 4P, balta matinė\",\n",
    "        \"kaina\": 508.22,\n",
    "        \"ivertinimas\": 4.8    },\n",
    "    {   \"pavadinimas\": \"Lentyna R60, balta\",\n",
    "        \"kaina\": 47.41,\n",
    "        \"ivertinimas\": 2.5    }     ]\n",
    "rezultatas = patikrai\n",
    "    \n",
    "print(rezultatas)"
   ]
  },
  {
   "cell_type": "code",
   "execution_count": 210,
   "metadata": {},
   "outputs": [
    {
     "name": "stdout",
     "output_type": "stream",
     "text": [
      "[10, 11, 10, 15, 11, 13, 9, 12, 6, 14]\n"
     ]
    }
   ],
   "source": [
    "####-----FUNKCIJŲ UŽDUOTYS   1.-----------skaiciuGeneravimas()---------------\n",
    "#Sugeneruokite sąrašą kuriame patalpinkite 30 elementų (indeksai nuo 0 iki 29), \n",
    "#kurių reikšmės yra atsitiktiniai skaičiai nuo 5 iki 25 ###--- nudar funkcija pasidaryt bet kokiam ilgiui\n",
    "import random\n",
    "\n",
    "def skaiciuGeneravimas(ilgis):\n",
    "    skaiciai=[]\n",
    "    for setas in range(ilgis):\n",
    "        skaiciai.append(random.randint(1,15))\n",
    "    return skaiciai\n",
    "\n",
    "skaiciai = skaiciuGeneravimas(10)\n",
    "\n",
    "print(skaiciai)  "
   ]
  },
  {
   "cell_type": "code",
   "execution_count": 224,
   "metadata": {},
   "outputs": [
    {
     "name": "stdout",
     "output_type": "stream",
     "text": [
      "[14, 8, 6, 14, 9, 9, 5, 8, 3]\n",
      "(14, [0])\n",
      "[6, 9, 5, 3]\n"
     ]
    }
   ],
   "source": [
    "#2b.Aprašykite funkciją kuri rastų didžiausią masyvo reikšmę. Priskirkite papildomą parametrą kurį perdavus \n",
    "#funkcija taipogi grąžintų ir didžiausio skaičiaus indeksą arba indeksus jeigu yra keli;\n",
    "#Sprendimai 12 d., čia blogas sprendimas\n",
    "\n",
    "def didziausiaReiksme(data, **argumentai):\n",
    "    maksas = max(data)\n",
    "\n",
    "    if \"indeksai\" in argumentai.keys():\n",
    "        indeksai = []\n",
    "\n",
    "        for indeksas, reiksme in enumerate(data):\n",
    "            if maksas == reiksme :\n",
    "                indeksai.append(indeksas)\n",
    "            return maksas, indeksai\n",
    "        else:\n",
    "            return maksas\n",
    "    \n",
    "\n",
    "data=skaiciuGeneravimas(9)\n",
    "\n",
    "print(data)\n",
    "print(didziausiaReiksme(data, indeksai= True))\n",
    "print(data[2::2])"
   ]
  },
  {
   "cell_type": "code",
   "execution_count": null,
   "metadata": {},
   "outputs": [],
   "source": [
    "# #2c.Sukurkite funkciją kuri suskaičiuotų visų porinių (lyginių) indeksų reikšmių sumą\n",
    "# def sumLyginiaiIndeksai():\n",
    "#     #sum = 0\n",
    "\n",
    "data=skaiciuGeneravimas(7) \n",
    "kasNAtras = data[::2]\n",
    "sum=0\n",
    "for indeksas in range(len(data)):\n",
    "     sum+=indeksas\n",
    "\n",
    "#suma = sum(data[::2])\n",
    "print(data)\n",
    "print(suma)\n",
    "####-------------pawziureti sprendio logika paskaitoje\n",
    "# mariaus\n",
    "#   for index, item in enumerate(Numbers):\n",
    "#         if index % 2 == 0: \n",
    "#             total_sum += item"
   ]
  },
  {
   "cell_type": "code",
   "execution_count": null,
   "metadata": {},
   "outputs": [],
   "source": [
    "#d.Sukurkite funkciją kuri priimtų sąrašą ir grąžintų naują, kurio reikšmės būtų priimto sąrašo reikšmė minus \n",
    "# indeksas; pvz [15, 21, 7, 8] rezultatas [15, 20, 5, 5]\n",
    "data=skaiciuGeneravimas(9)\n",
    "\n",
    "def sarasas(data):\n",
    "    sarasas=[]\n",
    "    for indeksas, reiksme in enumerate(data):\n",
    "        sarasas.append(reiksme - indeksas)\n",
    "    return(sarasas)   \n",
    "\n",
    "kintam = sarasas(data)\n",
    "print(kintam)\n"
   ]
  },
  {
   "cell_type": "code",
   "execution_count": null,
   "metadata": {},
   "outputs": [],
   "source": [
    "#2a.Sukurkite funkciją kuri priimtų vieną parametrą (sąrašą) \n",
    "# ir grąžintų atgal kiek sąraše yra reikšmių didesnių už 10;\n",
    "#data=skaiciuGeneravimas(7)\n",
    "import random\n",
    "\n",
    "def skaiciuGeneravimas(ilgis):\n",
    "    skaiciai=[]\n",
    "    for setas in range(ilgis):\n",
    "        skaiciai.append(random.randint(1,15))\n",
    "    return skaiciai\n",
    "skaiciai = skaiciuGeneravimas(10)\n",
    "print(skaiciai)  \n",
    "\n",
    "def daugiauUzDesimt(data):\n",
    "    sk=0\n",
    "\n",
    "    for x in data :\n",
    "        if x > 10:\n",
    "            sk += 1\n",
    "    return sk     \n",
    "variable = daugiauUzDesimt(skaiciai)\n",
    "\n",
    "print(variable)"
   ]
  },
  {
   "cell_type": "code",
   "execution_count": 220,
   "metadata": {},
   "outputs": [
    {
     "name": "stdout",
     "output_type": "stream",
     "text": [
      "[15, 13, 6, 8, 14]\n",
      "35\n"
     ]
    }
   ],
   "source": [
    "#2c.Sukurkite funkciją kuri suskaičiuotų visų porinių (lyginių) indeksų reikšmių sumą;\n",
    "data = skaiciuGeneravimas(5)\n",
    "print(data)\n",
    "def lyginiai(data):\n",
    "    suma = 0\n",
    "    for indeksas, skaicius in enumerate(data):\n",
    "        if indeksas % 2 == 0 :\n",
    "            suma += skaicius\n",
    "    return suma\n",
    "\n",
    "poriniai=lyginiai(data)\n",
    "print(poriniai)"
   ]
  },
  {
   "cell_type": "code",
   "execution_count": 234,
   "metadata": {},
   "outputs": [
    {
     "name": "stdout",
     "output_type": "stream",
     "text": [
      "[9, 12, 5, 2, 1, 1, 7, 12]\n",
      "([9, 5, 1, 7], [12, 2, 1]) True\n"
     ]
    }
   ],
   "source": [
    "#e.Sukurkite funkciją kuri priimtų sąrašą ir grąžintų du naujus. Pirmas turi būti sudarytas iš neporinių indeksų reikšmių, o kitas \n",
    "#iš porinių; Aprašykite papildomą priimamą parametrą kurį perdavus reikšmės grąžinamuose sąrašuose būtų unikalios.\n",
    "data=skaiciuGeneravimas(8)\n",
    "print(data)\n",
    "\n",
    "def du_sarasai(data, unique = None) :\n",
    "    listas1 = []\n",
    "    listas2 = []\n",
    "    for x, reiksm in enumerate(data):\n",
    "        if x % 2 == 0: \n",
    "          if not unique and reiksm not in listas1:\n",
    "           listas1.append(reiksm)\n",
    "        else:\n",
    "          if not unique and reiksm not in listas2:\n",
    "           listas2.append(reiksm)\n",
    "\n",
    "       \n",
    "    return listas1, listas2\n",
    "\n",
    "iskvieciamFja = du_sarasai(data)\n",
    "print(iskvieciamFja, True)\n",
    "\n",
    "##------Lauros\n",
    "# def duSarasai(data, uni = None):\n",
    "#     listas1 = []\n",
    "#     listas2 = []\n",
    "#     for i, sk in enumerate(data): \n",
    "#         if i %2 == 0:       \n",
    "#             listas1.append(sk)\n",
    "#         else:\n",
    "#             listas2.append(sk)\n",
    "#     if uni == 'U':\n",
    "#         listas1 = set(listas1)\n",
    "#         listas2 = set(listas2)\n",
    "    \n",
    "#     return listas1, listas2\n",
    "# sarasai = duSarasai(skaiciai,'U')\n",
    "# print(sarasai)"
   ]
  },
  {
   "cell_type": "code",
   "execution_count": null,
   "metadata": {},
   "outputs": [],
   "source": [
    "##e.\n",
    "#-M\n",
    "data = skaiciuGeneravimas(7)\n",
    "even_list = []\n",
    "uneven_list = []\n",
    "def even_uneven_list(data, even_list, uneven_list, unique):\n",
    "    for index, item in enumerate(data):\n",
    "        if index % 2 == 0:\n",
    "            if not unique or item not in even_list:\n",
    "                even_list.append(item)\n",
    "        else:\n",
    "            if not unique or item not in uneven_list:\n",
    "                uneven_list.append(item)\n",
    "    return even_list, uneven_list\n",
    "even_uneven_list(data, even_list, uneven_list, True)\n",
    "even_uneven_list(data, even_list, uneven_list, False)\n",
    "print(\"Numbers:\", data)\n",
    "print(\"Even-indexed items:\", even_list)\n",
    "print(\"Uneven-indexed items:\", uneven_list)"
   ]
  },
  {
   "cell_type": "code",
   "execution_count": null,
   "metadata": {},
   "outputs": [],
   "source": [
    "#-M\n",
    "def highest_value(Numbers):\n",
    "    highest_number = max(Numbers)\n",
    "    index = Numbers.index(highest_number)\n",
    "    \n",
    "    return highest_number, index\n",
    "data = highest_value(Numbers)\n",
    "print(\"Numbers:\", Numbers)\n",
    "print(\"Highest value and its index:\", data)"
   ]
  },
  {
   "cell_type": "code",
   "execution_count": null,
   "metadata": {},
   "outputs": [],
   "source": [
    "#f.Sukurkite funkciją kuri priimtų sąrašą ir grąžintų jo elementus su poriniais indeksais pavertusi 0 jeigu reikšmė buvo didesnė už 15;\n",
    "#pvz [18, 22, 5, 8, 16] rezultatas [0, 22, 5, 8, 0] \n",
    "data = skaiciuGeneravimas(16)\n",
    "\n",
    "def poriniaiIndeksai(data):\n",
    "    sarasas =[]\n",
    "    for indeksas, reiksme in enumerate(data):\n",
    "        if indeksas % 2 == 0 and reiksme > 15:\n",
    "           sarasas.append(0)\n",
    "        else:\n",
    "           sarasas.append(reiksme)\n",
    "    return sarasas\n",
    "\n",
    "\n",
    "print(data)\n",
    "print(poriniaiIndeksai(data))        "
   ]
  },
  {
   "cell_type": "code",
   "execution_count": null,
   "metadata": {},
   "outputs": [],
   "source": [
    "#f.Sukurkite funkciją kuri priimtų skaičius kaip parametrus (Ne kaip sąrašą) ir grąžintų pirmo skaičiaus indeksą \n",
    "#kurio reikšmė didesnė nei dešimt. Patalpinkite papildomą pasirenkamą parametrą, kurį perdavus grąžinami \n",
    "#visų skaičių kurie yra didesni nei dešimt indeksai.\n",
    "# #bičk kitas , cia neveikia puse\n",
    "sarasas = skaiciuGeneravimas(15)\n",
    "print(\"Eilutė: \",sarasas)\n",
    "\n",
    "def pirmoDisesnisnioIndekso(sarasas, visi = True):\n",
    "    indeksuSarasas = []\n",
    "    for indeksas, reiksme in enumerate(sarasas):\n",
    "        if reiksme > 10:\n",
    "            indeksuSarasas.append(indeksas)\n",
    "            if not visi:\n",
    "                return \"Didesnio už 10 pirmo skaičiaus indeksas: \" +  str(indeksas)\n",
    "            \n",
    "           \n",
    "    return \"Didesnių už 10 skaičių indeksai: \" +  str(tuple(indeksuSarasas))\n",
    "print(pirmoDisesnisnioIndekso(sarasas))"
   ]
  },
  {
   "cell_type": "code",
   "execution_count": null,
   "metadata": {},
   "outputs": [],
   "source": [
    "#3.Jums duotas stringas: “54 77 2 59 17 19 108”. Aprašykite funkciją kuri priima parametrą kaip stringą, sąrašą arba argumentus perduotus per kablelį. \n",
    "# Paimkite visus perduotus skaičius ir patikrinkite juos ar jie yra pirminiai. T.y. ar natūralusis skaičius yra didesnis nei 1 ir be liekanos dalinasi tik iš savęs ir iš vieneto. \n",
    "#https://en.wikipedia.org/wiki/Prime_number  Funkcija turi grąžinti visus skaičius kurie yra pirminiai iš anksčiau perduotų. Rezultatas kurio tikimasi: [2, 59, 17, 19]\n",
    "#rinkinys = list(\"4 77 2 59 17 19 108\")\n",
    "rinkinys = \"54 77 2 59 17 19 108\"\n",
    "import math\n",
    "tikrinamas_sk = 7\n",
    "ciklo_ilgis = math.ceil(tikrinamas_sk/2)\n",
    "for x in ciklo_ilgis:\n",
    "    \n",
    "print(ciklo_ilgis)"
   ]
  },
  {
   "cell_type": "code",
   "execution_count": 253,
   "metadata": {},
   "outputs": [
    {
     "name": "stdout",
     "output_type": "stream",
     "text": [
      "yra pirminis\n"
     ]
    }
   ],
   "source": [
    "#3. Jums duotas stringas: “54 77 2 59 17 19 108”. Aprašykite funkciją kuri priima parametrą kaip stringą, sąrašą arba argumentus \n",
    "#perduotus per kablelį. Paimkite visus perduotus skaičius ir patikrinkite juos ar jie yra pirminia\n",
    "\n",
    "def arPirminis(sk):\n",
    "    for daliklis in range(2, sk-1):\n",
    "        if sk % daliklis == 0:\n",
    "            return \"Skaicius ne pirminis\"\n",
    "    return \"yra pirminis\"\n",
    "    \n",
    "print(arPirminis(11))"
   ]
  },
  {
   "cell_type": "code",
   "execution_count": 258,
   "metadata": {},
   "outputs": [
    {
     "name": "stdout",
     "output_type": "stream",
     "text": [
      "vilniuscodingschool"
     ]
    }
   ],
   "source": [
    "#4.Gavote žinutę: “gjrgkjxvbsigdvifpjqyzlzxsxzjnvgojlziaofdfnufymsjqsxxyknqcchmpepoljekhydgmfvhwipvopllndyuddcgxnleutsmprxqlcnxxthdhtpnutqocvtuanouumbkmlxexzmc”\n",
    "#Surasti tai kas joje yra paslėpta jums padės varlė. Ji tupi ežero krante, o kiekviena raidė yra akmuo. \n",
    "# Varlytė vienu šuoliu geba peršokti septynis akmenis. Su kiekvienu šuoliu priartėsite prie tikslo. Kas buvo paslėpta? \n",
    "zinute =\"gjrgkjxvbsigdvifpjqyzlzxsxzjnvgojlziaofdfnufymsjqsxxyknqcchmpepoljekhydgmfvhwipvopllndyuddcgxnleutsmprxqlcnxxthdhtpnutqocvtuanouumbkmlxexzmc\"\n",
    "for indeksas in range(0, len(zinute), 7):\n",
    "    if indeksas != 0:\n",
    "     print(zinute[indeksas], end = \"\")"
   ]
  },
  {
   "cell_type": "code",
   "execution_count": 257,
   "metadata": {},
   "outputs": [
    {
     "name": "stdout",
     "output_type": "stream",
     "text": [
      "Paslėpta žinutė: gvilniuscodingschool\n"
     ]
    }
   ],
   "source": [
    "def issifruoti_zinute(zinute) :\n",
    "    return zinute [ :: 7]\n",
    "uzsifruota_zinute = \"gjrgkjxvbsigdvifpjqyzlzxsxzjnvgojlziaofdfnufymsjqsxxyknqcchmpepoljekhydgmfvhwipvopllndyuddcgxnleutsmprxqlcnxxthdhtpnutqocvtuanouumbkmlxexzmc\"\n",
    "issifruota_zinute = issifruoti_zinute(uzsifruota_zinute)\n",
    "print(\"Paslėpta žinutė:\", issifruota_zinute)"
   ]
  }
 ],
 "metadata": {
  "kernelspec": {
   "display_name": "Python 3",
   "language": "python",
   "name": "python3"
  },
  "language_info": {
   "codemirror_mode": {
    "name": "ipython",
    "version": 3
   },
   "file_extension": ".py",
   "mimetype": "text/x-python",
   "name": "python",
   "nbconvert_exporter": "python",
   "pygments_lexer": "ipython3",
   "version": "3.13.0"
  }
 },
 "nbformat": 4,
 "nbformat_minor": 2
}
