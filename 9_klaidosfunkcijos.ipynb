{
 "cells": [
  {
   "cell_type": "code",
   "execution_count": 18,
   "metadata": {},
   "outputs": [
    {
     "name": "stdout",
     "output_type": "stream",
     "text": [
      "Dalyba iš 0 arba simbolis vietoj skaičiaus\n",
      "Sekantys veiksmai\n"
     ]
    }
   ],
   "source": [
    "import operator \n",
    "\n",
    "operatoriai =  {\n",
    "    '+': operator.add,\n",
    "    '-': operator.sub,\n",
    "    '*': operator.mul,\n",
    "    '/': operator.floordiv, }\n",
    "\n",
    "pirmas = input(\"Įveskite skaičių A: \")\n",
    "op = input(\"Įveskite matematinį veiksmą (+, −, /, ∗): \")\n",
    "antras = input(\"Įveskite skaičių B: \")\n",
    "\n",
    "try : \n",
    "    A = int(pirmas)\n",
    "    B = int(antras)\n",
    "    print(A, B, \"\\n\", operatoriai[op](A, B))\n",
    "except : \n",
    "    print(\"Dalyba iš 0 arba simbolis vietoj skaičiaus\")\n",
    "print(\"Sekantys veiksmai\")"
   ]
  },
  {
   "cell_type": "code",
   "execution_count": 20,
   "metadata": {},
   "outputs": [
    {
     "ename": "TypeError",
     "evalue": "Netinkamas tipas",
     "output_type": "error",
     "traceback": [
      "\u001b[1;31m---------------------------------------------------------------------------\u001b[0m",
      "\u001b[1;31mTypeError\u001b[0m                                 Traceback (most recent call last)",
      "Cell \u001b[1;32mIn[20], line 1\u001b[0m\n\u001b[1;32m----> 1\u001b[0m \u001b[38;5;28;01mraise\u001b[39;00m \u001b[38;5;167;01mTypeError\u001b[39;00m(\u001b[38;5;124m\"\u001b[39m\u001b[38;5;124mNetinkamas tipas\u001b[39m\u001b[38;5;124m\"\u001b[39m)\n",
      "\u001b[1;31mTypeError\u001b[0m: Netinkamas tipas"
     ]
    }
   ],
   "source": [
    "raise TypeError(\"Netinkamas tipas\")"
   ]
  },
  {
   "cell_type": "markdown",
   "metadata": {},
   "source": []
  }
 ],
 "metadata": {
  "kernelspec": {
   "display_name": "Python 3",
   "language": "python",
   "name": "python3"
  },
  "language_info": {
   "codemirror_mode": {
    "name": "ipython",
    "version": 3
   },
   "file_extension": ".py",
   "mimetype": "text/x-python",
   "name": "python",
   "nbconvert_exporter": "python",
   "pygments_lexer": "ipython3",
   "version": "3.13.0"
  }
 },
 "nbformat": 4,
 "nbformat_minor": 2
}
