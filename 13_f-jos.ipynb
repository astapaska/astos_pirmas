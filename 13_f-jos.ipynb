{
 "cells": [
  {
   "cell_type": "code",
   "execution_count": 69,
   "metadata": {},
   "outputs": [
    {
     "name": "stdout",
     "output_type": "stream",
     "text": [
      "16\n",
      "15.999999999999998\n"
     ]
    }
   ],
   "source": [
    "#Parašykite funkciją, kuri suskaičiuotų aritmetinį arba geometrinį vidurkį iš pateiktų skaičių. Pateikiamų skaičių\n",
    "#kiekis neapibrėžtas. Panaudokite raktažodžius, kad nurodytumėte, kokį vidurkį reikia apskaičiuoti.\n",
    "import statistics\n",
    "sk1 = [16,16]\n",
    "print(statistics.mean(sk1))\n",
    "print(statistics.geometric_mean(sk1))\n",
    "\n"
   ]
  },
  {
   "cell_type": "code",
   "execution_count": 68,
   "metadata": {},
   "outputs": [
    {
     "name": "stdout",
     "output_type": "stream",
     "text": [
      "suma:40 aritm. vidurkis:10.0\n",
      " sandauga:4096 geom. vidurkis:8.0\n"
     ]
    }
   ],
   "source": [
    "\n",
    "def vidurkiui(*masyvas):\n",
    "   suma = 0\n",
    "   daugyba = 1\n",
    "   \n",
    "   for x in sk :\n",
    "    daugyba *= x\n",
    "    avgG = daugyba **(1/len(masyvas))\n",
    "\n",
    "    suma += x\n",
    "    avgA = suma/len(masyvas)\n",
    "   print(f'suma:{suma} aritm. vidurkis:{avgA}\\n sandauga:{daugyba} geom. vidurkis:{avgG}')\n",
    "\n",
    "sk= (16, 16, 4, 4)\n",
    "\n",
    "vidurkiui(16, 16, 4, 4)\n",
    "#pabaigti kad grazintu atskirose eilutese"
   ]
  }
 ],
 "metadata": {
  "kernelspec": {
   "display_name": "Python 3",
   "language": "python",
   "name": "python3"
  },
  "language_info": {
   "codemirror_mode": {
    "name": "ipython",
    "version": 3
   },
   "file_extension": ".py",
   "mimetype": "text/x-python",
   "name": "python",
   "nbconvert_exporter": "python",
   "pygments_lexer": "ipython3",
   "version": "3.13.0"
  }
 },
 "nbformat": 4,
 "nbformat_minor": 2
}
