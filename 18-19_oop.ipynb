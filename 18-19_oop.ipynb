{
 "cells": [
  {
   "cell_type": "code",
   "execution_count": null,
   "metadata": {},
   "outputs": [],
   "source": [
    "#1.Parašykite klasę, turinčią konstruktorių. Konstruktorius turi spausdinti pranešimą, jog objektas yra sukurtas.\n",
    "class MyFirstClass():\n",
    "    def __init__(self):\n",
    "        print(\"Klase (objektas) sukurta\")\n",
    "klase = MyFirstClass()"
   ]
  },
  {
   "cell_type": "code",
   "execution_count": null,
   "metadata": {},
   "outputs": [
    {
     "name": "stdout",
     "output_type": "stream",
     "text": [
      "Objektas sukurtas\n",
      "Daabr objektas (klase) sunaikintas\n",
      "<__main__.NextClass object at 0x000001EB4C8D6900>\n"
     ]
    }
   ],
   "source": [
    "#2.Parašykite klasę, kuri turėtų konstruktorių, destruktorių. Abu turi spausdinti informacinį \n",
    "# pranešimą, jog objektas yra sukurtas/sunaikintas.\n",
    "class NextClass():\n",
    "    #isaukiamas konstruktorius\n",
    "    def __init__(self) :\n",
    "        print(\"Objektas sukurtas\")\n",
    "    def __del__(self):\n",
    "        print(\"Daabr objektas (klase) sunaikintas\")\n",
    "\n",
    "grupe = NextClass()\n",
    "del grupe"
   ]
  },
  {
   "cell_type": "code",
   "execution_count": null,
   "metadata": {},
   "outputs": [
    {
     "name": "stdout",
     "output_type": "stream",
     "text": [
      "Turiu reikšmę\n"
     ]
    }
   ],
   "source": [
    "#3.Parašykite klasę, kuri turėtų vieną atributą (t.y. savybę). Pasiekite jo reikšmę, išveskite. \n",
    "#Pakeiskite atributo(savybes) reikšmę. Patikrinkite, ar reikšmė pakito.\n",
    "class ThirdClass():\n",
    "    def __init__(self, atributas):\n",
    "        self.atributas = atributas\n",
    "    def apibreziam(self):\n",
    "        print(self.atributas)\n",
    "        \n",
    "atributas = (\"Turiu reikšmę\")        \n",
    "rezultatas = ThirdClass(atributas)\n",
    "\n",
    "# ThirdClass.atributas = \"kita reiksme\"\n",
    "rezultatas.apibreziam()\n",
    "'''sprendimas paprastesnis, zr. lektoriaus'''"
   ]
  },
  {
   "cell_type": "code",
   "execution_count": null,
   "metadata": {},
   "outputs": [],
   "source": [
    "#4.Prie ankstesnės klasės pridėkite metodus, skirtus išvesti atributo reikšmę, pakeisti atributo reikšmę. \n",
    "# Patikrinkite, ar jie veikia.\n",
    "class ThirdClass():\n",
    "    '''nusistatom savo kainos riba'''\n",
    "    kaina = input(\"Įvesk kainą: \")\n",
    "\n",
    "    def __init__(self, kaimas):\n",
    "        self.first = kaimas\n",
    "    def kainosLygis(self, kaina):\n",
    "        if kaina > 1000:\n",
    "            self.kaina = kaina\n",
    "        else: \n",
    "            self.kaina =(\"Per pigu\")\n",
    "\n",
    "first = ThirdClass(\"Akučiai\")\n",
    "second = ThirdClass(\"Cvinkai\")\n",
    "last = ThirdClass(\"Stopėnai\")\n",
    "\n",
    "rez = ThirdClass(kainosLygis.kaimas)\n",
    "\n",
    "print(rez)\n",
    "'''paziureti sprendima'''"
   ]
  },
  {
   "cell_type": "code",
   "execution_count": null,
   "metadata": {},
   "outputs": [],
   "source": [
    "import random\n",
    "class Telikai():\n",
    "    kanalas = 1\n",
    "    garsas = 50\n",
    "    #gamintojas = (\"SONY\", \"NICE\")\n",
    "\n",
    "    def __init__(self, gamintojas):\n",
    "        self.gamintojas = gamintojas\n",
    "\n",
    "    '''grazins gamintoja'''\n",
    "    def reiksmes(self):\n",
    "       return f\"Telikas '{self.gamintojas}' \"\n",
    "\n",
    "    def set_kanaloMygtas(self, number):\n",
    "    \n",
    "    def set_garsoMygtas(self, decibelai):\n",
    "        for x in range(1):\n",
    "         decibelai = random.randint(0,100)\n"
   ]
  }
 ],
 "metadata": {
  "kernelspec": {
   "display_name": "Python 3",
   "language": "python",
   "name": "python3"
  },
  "language_info": {
   "codemirror_mode": {
    "name": "ipython",
    "version": 3
   },
   "file_extension": ".py",
   "mimetype": "text/x-python",
   "name": "python",
   "nbconvert_exporter": "python",
   "pygments_lexer": "ipython3",
   "version": "3.13.0"
  }
 },
 "nbformat": 4,
 "nbformat_minor": 2
}
