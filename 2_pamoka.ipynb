{
 "cells": [
  {
   "cell_type": "code",
   "execution_count": 33,
   "metadata": {},
   "outputs": [
    {
     "data": {
      "text/plain": [
       "34"
      ]
     },
     "execution_count": 33,
     "metadata": {},
     "output_type": "execute_result"
    }
   ],
   "source": [
    "8*4+2"
   ]
  },
  {
   "cell_type": "code",
   "execution_count": 34,
   "metadata": {},
   "outputs": [
    {
     "data": {
      "text/plain": [
       "48"
      ]
     },
     "execution_count": 34,
     "metadata": {},
     "output_type": "execute_result"
    }
   ],
   "source": [
    "8*(4+2)"
   ]
  },
  {
   "cell_type": "code",
   "execution_count": 35,
   "metadata": {},
   "outputs": [
    {
     "name": "stdout",
     "output_type": "stream",
     "text": [
      "Rezultatas:  8\n"
     ]
    }
   ],
   "source": [
    "pirmas=1\n",
    "antrasis=7\n",
    "rez=(pirmas + antrasis)\n",
    "print(\"Rezultatas: \" , rez)"
   ]
  },
  {
   "cell_type": "code",
   "execution_count": 36,
   "metadata": {},
   "outputs": [
    {
     "name": "stdout",
     "output_type": "stream",
     "text": [
      "1 uždavinys\n",
      "Sumos atsakymas yra toks: 6+3+2=11\n",
      "Skirtumo atsakymas yra toks: 6-3-2=1\n",
      "Daugybos atsakymas yra toks: 6*3*2=36\n",
      "Dalybos atsakymas yra toks: 6/3/2=1\n",
      "2 uždavinys\n",
      "32\n",
      "5\n",
      "32\n",
      "25\n",
      "Pradine reiksme: 2 Rezultatas: 32\n"
     ]
    }
   ],
   "source": [
    "print(\"1 uždavinys\")\n",
    "kintPirmas=6\n",
    "kintDU=3\n",
    "kintTrys=2\n",
    "sum=(kintPirmas + kintDU + kintTrys)\n",
    "minus=(kintPirmas - kintDU - kintTrys)\n",
    "daugyba= (kintPirmas * kintDU * kintTrys)\n",
    "dalyba=(kintPirmas // kintDU // kintTrys)\n",
    "print(\"Sumos atsakymas yra toks: \" + str(kintPirmas) + \"+\"  + str(kintDU) + \"+\" + str(kintTrys) + \"=\" + str(sum))\n",
    "print(\"Skirtumo atsakymas yra toks: \" + str(kintPirmas) + \"-\"  + str(kintDU) + \"-\" + str(kintTrys) + \"=\" + str(minus))\n",
    "print(\"Daugybos atsakymas yra toks: \" + str(kintPirmas) + \"*\"  + str(kintDU) + \"*\" + str(kintTrys) + \"=\" + str(daugyba))\n",
    "print(\"Dalybos atsakymas yra toks: \" + str(kintPirmas) + \"/\"  + str(kintDU) + \"/\" + str(kintTrys) + \"=\" + str(dalyba))\n",
    "\n",
    "print(\"2 uždavinys\")\n",
    "pirmasis= 2\n",
    "antrasis= 5\n",
    "print(pirmasis ** 5)\n",
    "print(antrasis)\n",
    "rezultatas_pirmojo= pirmasis ** 5\n",
    "rezultatas_antrojo= antrasis ** 2\n",
    "print(rezultatas_pirmojo)\n",
    "print(rezultatas_antrojo)\n",
    "print('Pradine reiksme: ' + str(pirmasis) , \"Rezultatas: \" + str(pirmasis ** 5))"
   ]
  },
  {
   "cell_type": "code",
   "execution_count": 37,
   "metadata": {},
   "outputs": [
    {
     "name": "stdout",
     "output_type": "stream",
     "text": [
      "64\n",
      "2.0\n",
      "1.0\n",
      "0 64\n"
     ]
    }
   ],
   "source": [
    "pirmas= 4\n",
    "antras= 1\n",
    "sand= (pirmas * antras) ** 3\n",
    "dalmuo= pirmas % antras\n",
    "print(sand)\n",
    "import math\n",
    "print(math.sqrt(pirmas))\n",
    "print(math.sqrt(antras))\n",
    "print(dalmuo,sand)"
   ]
  },
  {
   "cell_type": "code",
   "execution_count": 132,
   "metadata": {},
   "outputs": [
    {
     "name": "stdout",
     "output_type": "stream",
     "text": [
      "Vardo ilgis 17\n",
      "delfi ilgis 113\n",
      "Vardo didžiosios ASTA\n",
      "Vardo mažosios: asta\n",
      "------is Delfi:-------- Po gandųjj ten slepia\n",
      "P adj peDkr aįAtnsJkeiispaab frsi eoim aou:nžns,k i e lpa\n",
      " apie Daka 13\n",
      "4\n",
      "4\n",
      "abas Arytas!\n",
      "abas Arytas!\n"
     ]
    },
    {
     "ename": "TypeError",
     "evalue": "slice indices must be integers or None or have an __index__ method",
     "output_type": "error",
     "traceback": [
      "\u001b[1;31m---------------------------------------------------------------------------\u001b[0m",
      "\u001b[1;31mTypeError\u001b[0m                                 Traceback (most recent call last)",
      "Cell \u001b[1;32mIn[132], line 18\u001b[0m\n\u001b[0;32m     16\u001b[0m \u001b[38;5;28mprint\u001b[39m(txt[\u001b[38;5;241m1\u001b[39m:\u001b[38;5;28mlen\u001b[39m(txt)])\n\u001b[0;32m     17\u001b[0m \u001b[38;5;28mprint\u001b[39m(txt[\u001b[38;5;241m1\u001b[39m:])\n\u001b[1;32m---> 18\u001b[0m \u001b[38;5;28mprint\u001b[39m(\u001b[43mtxt\u001b[49m\u001b[43m[\u001b[49m\u001b[43m:\u001b[49m\u001b[43m(\u001b[49m\u001b[43mtxt\u001b[49m\u001b[43m)\u001b[49m\u001b[43m]\u001b[49m)\n\u001b[0;32m     19\u001b[0m \u001b[38;5;28mprint\u001b[39m(txt\u001b[38;5;241m.\u001b[39mreplace(\u001b[38;5;124m'\u001b[39m\u001b[38;5;124mLabas Arytas!\u001b[39m\u001b[38;5;124m'\u001b[39m,\u001b[38;5;124m'\u001b[39m\u001b[38;5;124mLabas Arytas\u001b[39m\u001b[38;5;124m'\u001b[39m))\n\u001b[0;32m     20\u001b[0m \u001b[38;5;28mprint\u001b[39m(txt\u001b[38;5;241m.\u001b[39mreplace (\u001b[38;5;124m'\u001b[39m\u001b[38;5;124mA\u001b[39m\u001b[38;5;124m'\u001b[39m, \u001b[38;5;124m'\u001b[39m\u001b[38;5;124mD\u001b[39m\u001b[38;5;124m'\u001b[39m))\n",
      "\u001b[1;31mTypeError\u001b[0m: slice indices must be integers or None or have an __index__ method"
     ]
    }
   ],
   "source": [
    "pirmas= \"Asta Paškevičienė\"\n",
    "delfi = 'Po gandųjj apie Dakaro ralį Antanas Juknevičius prakalbo aferas ir terorizmo pavojus: nežinosi, ką jie ten slepia'\n",
    "print('Vardo ilgis' , len(pirmas))\n",
    "print('delfi ilgis',len(delfi))\n",
    "\n",
    "print('Vardo didžiosios',pirmas[0:4].upper())\n",
    "print('Vardo mažosios:',pirmas[0:4].lower() )\n",
    "\n",
    "print('------is Delfi:--------', delfi[0:10] , delfi[-10:-1] + delfi[len(delfi) - 1])\n",
    "print(delfi[0:len(delfi):2])  #print(delfi[::2])\n",
    "print(delfi[10:20], delfi.count('a'))\n",
    "print(delfi.index('a')) #grazina klaida kai nieko neranda\n",
    "print(delfi.find(\"a\")) #grazina -1 kai nieko neranda\n",
    "txt = 'Labas Arytas!'\n",
    "len(txt)\n",
    "print(txt[1:len(txt)])\n",
    "print(txt[1:])\n",
    "print(txt[:(txt)])\n",
    "print(txt.replace('Labas Arytas!','Labas Arytas'))\n",
    "print(txt.replace ('A', 'D'))"
   ]
  },
  {
   "cell_type": "code",
   "execution_count": 116,
   "metadata": {},
   "outputs": [
    {
     "name": "stdout",
     "output_type": "stream",
     "text": [
      "8 6 Kazlas\n",
      "ROLANDAS kazlas\n",
      "R\n"
     ]
    }
   ],
   "source": [
    "name = 'Rolandas' \n",
    "sname = 'Kazlas'\n",
    "print(    len(name) , len(sname)  , sname  )\n",
    "print(    name.upper() , sname.lower()    )\n",
    "print ( name[0])  #+sname[0]   ) \n",
    "print ( inic = name[0])  #+sname[0]   ) "
   ]
  }
 ],
 "metadata": {
  "kernelspec": {
   "display_name": "Python 3",
   "language": "python",
   "name": "python3"
  },
  "language_info": {
   "codemirror_mode": {
    "name": "ipython",
    "version": 3
   },
   "file_extension": ".py",
   "mimetype": "text/x-python",
   "name": "python",
   "nbconvert_exporter": "python",
   "pygments_lexer": "ipython3",
   "version": "3.13.0"
  }
 },
 "nbformat": 4,
 "nbformat_minor": 2
}
