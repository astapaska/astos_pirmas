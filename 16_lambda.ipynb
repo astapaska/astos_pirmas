{
 "cells": [
  {
   "cell_type": "code",
   "execution_count": null,
   "metadata": {},
   "outputs": [],
   "source": [
    "sarasas=[15, 5,4,22]\n",
    "suma = 0\n",
    "for skaicius in sarasas:\n",
    "    if skaicius > 10:\n",
    "        suma+= skaicius\n",
    "\n",
    "print(suma)"
   ]
  },
  {
   "cell_type": "code",
   "execution_count": null,
   "metadata": {},
   "outputs": [],
   "source": [
    "import random\n",
    "def skaiciuGeneravimas(ilgis):\n",
    "    skaiciai=[]\n",
    "    for setas in range(ilgis):\n",
    "        skaiciai.append(random.randint(1,25))\n",
    "    return skaiciai\n",
    "skaiciai = skaiciuGeneravimas(10)\n",
    "print(skaiciai)"
   ]
  },
  {
   "cell_type": "code",
   "execution_count": 9,
   "metadata": {},
   "outputs": [
    {
     "name": "stdout",
     "output_type": "stream",
     "text": [
      "28\n"
     ]
    }
   ],
   "source": [
    "#2c.Sukurkite funkciją kuri suskaičiuotų visų porinių (lyginių) indeksų reikšmių sumą; panaudoti lambda f-ja\n",
    "# seka = skaiciuGeneravimas(7)\n",
    "# print(seka)\n",
    "\n",
    "# def lyginiai(data):\n",
    "#     suma = 0\n",
    "#     for indeksas, skaicius in enumerate(data):\n",
    "#         if indeksas % 2 == 0 :\n",
    "#             suma += skaicius\n",
    "#     return suma\n",
    "# poriniai=lyginiai(data)\n",
    "# print(poriniai)\n",
    "\n",
    "def poriniuSuma(data, callback):\n",
    "    suma=0\n",
    "\n",
    "    for indeksas, skaicius in enumerate(data): \n",
    "        suma += callback(skaicius, indeksas)\n",
    "    return suma\n",
    "\n",
    "print(poriniuSuma([15, 5, 4, 2, 9], lambda skaicius, indeksas : skaicius if indeksas % 2 == 0 else 0))\n"
   ]
  },
  {
   "cell_type": "code",
   "execution_count": 11,
   "metadata": {},
   "outputs": [
    {
     "name": "stdout",
     "output_type": "stream",
     "text": [
      "Indeksas:  0\n",
      "Indeksas:  1\n",
      "Indeksas:  2\n",
      "Indeksas:  3\n",
      "Lyginiu/poriniu indeksu suma: 19\n"
     ]
    }
   ],
   "source": [
    "#dar pavyzdys iš dėstytojo, kaip su tuo pačiu callbac grąžinti sumą ir lyginių indeksu sumą\n",
    "def suma(data, callback) :\n",
    "    suma = 0\n",
    "    for indeksas,skaicius in enumerate(data):\n",
    "        if indeksas % 2 == 0:\n",
    "            suma += callback(skaicius)\n",
    "        print(\"Indeksas: \", indeksas)\n",
    "    return suma\n",
    "\n",
    "def sumaSkaiciuKurieYraDidesniNei10(data, callback) :\n",
    "    suma = 0\n",
    "    for indeksas,skaicius in enumerate(data):\n",
    "        if skaicius > 10:\n",
    "            suma += callback(skaicius)\n",
    "        print(\"Indeksas: \", indeksas)\n",
    "    return suma\n",
    "\n",
    "print(\"Lyginiu/poriniu indeksu suma:\", suma([15,5,4,22], lambda indeksas : indeksas ))"
   ]
  },
  {
   "cell_type": "code",
   "execution_count": 28,
   "metadata": {},
   "outputs": [
    {
     "name": "stdout",
     "output_type": "stream",
     "text": [
      "[-9]\n",
      "{25}\n",
      "{34}\n",
      "{2}\n",
      "(0)\n",
      "[-7]\n"
     ]
    },
    {
     "data": {
      "text/plain": [
       "<map at 0x181406c1f60>"
      ]
     },
     "execution_count": 28,
     "metadata": {},
     "output_type": "execute_result"
    }
   ],
   "source": [
    "#1.Jums duotas sąrašas su skaičiais: [-9, 25, 34, 2, 0] Neigiamus skaičius apgliaubkite laužtiniais skliaustais [] \n",
    "# 0 - () Teigiamus - {}\n",
    "#---lektoriaus sprendimas su map\n",
    "def apskliaustiSkaiciai(sarasas):\n",
    "    for x in sarasas:\n",
    "       if x < 0:\n",
    "        print(f\"[{x}]\")\n",
    "       elif x == 0:\n",
    "        print(f\"({x})\")\n",
    "       else:\n",
    "        print(f\"{{{x}}}\") \n",
    "        \n",
    "masyvas = [-9, 25, 34, 2, 0, -7]\n",
    "apskliaustiSkaiciai(masyvas)\n",
    "\n",
    "map(apskliaustiSkaiciai,[-9, 25, 34, 2, 0, -7])"
   ]
  },
  {
   "cell_type": "code",
   "execution_count": null,
   "metadata": {},
   "outputs": [],
   "source": [
    "#2.Duodamas sąrašas: [54 77 2 59 17 19 108] Pašalinkite iš jo visus skaičius kurie nėra pirminiai. Rezultatas: [2, 59, 17, 19]\n"
   ]
  },
  {
   "cell_type": "code",
   "execution_count": 30,
   "metadata": {},
   "outputs": [
    {
     "ename": "SyntaxError",
     "evalue": "invalid syntax. Perhaps you forgot a comma? (3334506641.py, line 4)",
     "output_type": "error",
     "traceback": [
      "\u001b[1;36m  Cell \u001b[1;32mIn[30], line 4\u001b[1;36m\u001b[0m\n\u001b[1;33m    filter(lambda txt : True len(txt)> 6 else False, zodziai)\u001b[0m\n\u001b[1;37m                        ^\u001b[0m\n\u001b[1;31mSyntaxError\u001b[0m\u001b[1;31m:\u001b[0m invalid syntax. Perhaps you forgot a comma?\n"
     ]
    }
   ],
   "source": [
    "#3.Jums duotas stringas \"Leonardo DiCaprio – 50 metų: stiliaus pamokos, kurių galite pasimokyti iš vieno ikoniškiausių pasaulio vyrų\". \n",
    "# Pašalinkite iš jo visus žodžius kurie yra trumpesni nei 6 simboliai\n",
    "zodziai = \"Leonardo DiCaprio – 50 metų: stiliaus pamokos, kurių galite pasimokyti iš vieno ikoniškiausių pasaulio vyrų\".split()\n",
    "filter(lambda txt : True len(txt)> 6 else False, zodziai)\n",
    "\n",
    "# isfiltruoti_zodziai = list(filter(lambda zodis: len(zodis) >= 6, map(str, zodziai)))\n",
    "# rezultatas = \" \".join(isfiltruoti_zodziai)\n",
    "# print(rezultatas)"
   ]
  }
 ],
 "metadata": {
  "kernelspec": {
   "display_name": "Python 3",
   "language": "python",
   "name": "python3"
  },
  "language_info": {
   "codemirror_mode": {
    "name": "ipython",
    "version": 3
   },
   "file_extension": ".py",
   "mimetype": "text/x-python",
   "name": "python",
   "nbconvert_exporter": "python",
   "pygments_lexer": "ipython3",
   "version": "3.13.0"
  }
 },
 "nbformat": 4,
 "nbformat_minor": 2
}
