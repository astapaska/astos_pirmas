{
 "cells": [
  {
   "cell_type": "code",
   "execution_count": null,
   "metadata": {},
   "outputs": [],
   "source": [
    "amzius = input(\"Įveskite savo amžių: \")\n",
    "if int(amzius) >= 18 :\n",
    "    print(\"jūs galite balsuoti\")\n",
    "else :\n",
    "    print(\"Dar paauk\")\n"
   ]
  },
  {
   "cell_type": "code",
   "execution_count": null,
   "metadata": {},
   "outputs": [],
   "source": [
    "pazymys1 = int(input(\"Įveskite 1 pažymį: \"))\n",
    "pazymys2 = int(input(\"Įveskite 2 pažymį: \"))\n",
    "pazymys3 = int(input(\"Įveskite 3 pažymį: \"))\n",
    "masyvas = [pazymys1, pazymys2, pazymys3]\n",
    "vidurkis = int((pazymys1 + pazymys2 + pazymys3) / len(masyvas))\n",
    "# pasižiūrėti is lektoriaus sprendimo  su funkcija ir apvalinimu\n",
    "# #print(f{vidurkis})\n",
    "\n",
    "if vidurkis >= len(masyvas) :\n",
    "    print('vidurkis teigiamas')\n",
    "else :\n",
    "    print('vidurkis neigiamas')\n",
    "    \n",
    "#print((pazymys1 + pazymys2 + pazymys3) / 3 )"
   ]
  },
  {
   "cell_type": "code",
   "execution_count": null,
   "metadata": {},
   "outputs": [],
   "source": [
    "skaicius = int(input(\"Įveskite skaičių: \"))\n",
    "# if skaicius % 5 == 0 :\n",
    "#     #print('1. tipo čia bus daugybos lentelė')\n",
    "#     print(skaicius*1)\n",
    "#     print(skaicius*3)\n",
    "#     print(skaicius*2)\n",
    "# else : print('1. nedalus iš 5')\n",
    "#dar pasaižiūrėti su f\"tai yra stringo išvedimas su {place holderiu} viduje be separatororiu, tyt stringas toks kokio norim\"\n",
    "\n",
    "if skaicius % 2 == 0 :\n",
    "    print('2.',skaicius,skaicius ** 2 , skaicius / 2, sep = \"; \")\n",
    "else : print('2. nedalus iš 2')\n",
    "\n",
    "if skaicius % 7 != 0 :\n",
    "    skaicius2 = int(input(\"Įveskite kitą skaičių: \"))\n",
    "    print('3. jų suma = ' , skaicius + skaicius2 , 'jų skirtumas =' , skaicius - skaicius2)\n",
    "else : print('3. dalus iš 7') #nebutina pagal salyga, ivedziau patikrai\n",
    "#antras budas\n",
    "#print(f\"Gauta suma: {skaicius + 7} Gautas skirtumas {skaicius - 7}\")\n"
   ]
  },
  {
   "cell_type": "code",
   "execution_count": 131,
   "metadata": {},
   "outputs": [
    {
     "name": "stdout",
     "output_type": "stream",
     "text": [
      "Antrasis skaičius didesnis už pirmąjį\n"
     ]
    }
   ],
   "source": [
    "skaicius1 = int(input(\"Įveskite 1 skaičių: \"))\n",
    "skaicius2 = int(input(\"Įveskite 2 skaičių: \"))\n",
    "\n",
    "# if skaicius1 > skaicius :\n",
    "#     print(\"Pirmas didesnis uz antra\")\n",
    "# elif skaicius1 == skaicius2\n",
    "#     print(\"Pirmas = antram\")\n",
    "# else: ----nu cia lektoriaus pvz\n",
    "\n",
    "if skaicius1 > skaicius2 :\n",
    "    print(\"Pirmasis skaičius didesnis už antrąjį\")\n",
    "else :\n",
    "    print(\"Antrasis skaičius didesnis už pirmąjį\")"
   ]
  },
  {
   "cell_type": "code",
   "execution_count": null,
   "metadata": {},
   "outputs": [],
   "source": [
    "sakinys = \"Vilnius yra UNESCO paveldas nuo 1996 metų.\"\n",
    "tekstas = input(\"Įveskite ieškomą tekstą\")\n",
    "#kaip surasti tekste viena raide darom sitaip:\n",
    "#if tekstas.lower() in sakinys.lower() :\n",
    "#   print(\"Radome toki teksta\")\n",
    "##padalintas = tekstas.split()\n",
    "\n",
    "if tekstas.lower() in sakinys.lower() :\n",
    "    print( \"įvestas tekstas (\", tekstas , \") yra sakinyje\")\n",
    "else : print(\"Nėra tokio (-ių) žodžių\")\n",
    "\n",
    "#print(padalintas)"
   ]
  },
  {
   "cell_type": "code",
   "execution_count": 146,
   "metadata": {},
   "outputs": [
    {
     "name": "stdout",
     "output_type": "stream",
     "text": [
      "11 yr tarp 10 ir 20\n",
      "11 yr nelyginis\n"
     ]
    }
   ],
   "source": [
    "numb = int(input(\"Įveskite savo skaičių: \"))\n",
    "\n",
    "rezultatas=(str(numb) + (\" yr tarp 10 ir 20\")) if numb>=10 and numb<=20 else str(numb) +' nepatenka į intervalą' \n",
    "print(rezultatas)\n",
    "\n",
    "# if numb >= 10 :\n",
    "#     if numb <= 20 :\n",
    "# print(f\"{numb} yra tarp 10 ir 20\")\n",
    "\n",
    "print( (str(numb) + ' yr lyginis') if numb % 2 ==0 else (str(numb) + ' yr nelyginis'))"
   ]
  },
  {
   "cell_type": "code",
   "execution_count": 152,
   "metadata": {},
   "outputs": [
    {
     "name": "stdout",
     "output_type": "stream",
     "text": [
      "7\n",
      "False\n"
     ]
    }
   ],
   "source": [
    "sk=int(input('Įveskite skaičių'))\n",
    "\n",
    "if (sk) % 3 == 0 and (sk) % 5 == 0:\n",
    "    print('FizzBuzz')\n",
    "elif (sk) % 5 == 0 and (sk) % 3 != 0:  \n",
    "    print('Buzz')\n",
    "elif (sk) % 3 == 0:\n",
    "    print('Fizz') \n",
    "else:\n",
    "    print( sk )\n",
    "\n",
    "print((sk) % 3 == 0)\n",
    "\n"
   ]
  },
  {
   "cell_type": "code",
   "execution_count": null,
   "metadata": {},
   "outputs": [],
   "source": [
    "#nepadariau uzduoties\n",
    "txt=input('Įveskite tekstą')\n",
    "\n",
    "if txt == \" \" :\n",
    "    print(\"Neivestas tekstas\")\n",
    "\n",
    "if txt.isnumeric() :\n",
    "    print(\"Ivesta tik skaiciai\")\n",
    "\n",
    "if txt.isalpha() :\n",
    "    print(\"Ivesta tik raides\")\n",
    "\n",
    "if txt.isalnum() :\n",
    "    print(\"Ivesti tik spec. simboliai\")\n",
    "\n",
    "if txt.islower():\n",
    "    print(\"Tekstas is diziuju raidziu\")\n"
   ]
  },
  {
   "cell_type": "code",
   "execution_count": null,
   "metadata": {},
   "outputs": [],
   "source": [
    "#Cia apvalina6 siaip supawindinantis pavyzdys\n",
    "skaicius =  10.9999\n",
    "#du metodai yra : f arba format\n",
    "# #\"Musu suapvalintas rezultatas yra: {}\".format()\n",
    "\n",
    "#f\"Skaicius yra {skaicius}\"\n",
    "print(\"Rezultatas yra {: .2f}\".format(skaicius))\n",
    "#rezultatas = f\"skaicius yra {skaicius}\"\n",
    "\n",
    "pirmas = 'Acer'\n",
    "antras = 'HP'\n",
    "trecias = 'Apple'\n",
    "print(f\"gamintojas {pirmas}, geresnis {antras}, geriausias {trecias}\")"
   ]
  },
  {
   "cell_type": "code",
   "execution_count": 208,
   "metadata": {},
   "outputs": [
    {
     "name": "stdout",
     "output_type": "stream",
     "text": [
      " Užsakomų žvakių skaičius: 66666 vnt,\n",
      " jų kaina: 63999.36 Eur\n"
     ]
    }
   ],
   "source": [
    "#1Įmonė parduoda žvakes po 1 EUR. Perkant daugiau kaip 1000 vienetų taikoma 3 % nuolaida, \n",
    "# daugiau kaip 2000 vienetų- 4 % nuolaida. Parašykite programą, kuri skaičiuos žvakių kainą ir \n",
    "# atspausdintų atsakymą kiek žvakių ir kokia kaina perkama. Žvakių kiekis įvedamas vartotojo (naudokite input funkciją)\n",
    "\n",
    "uzsakymas = int(input(\"Įveskite kiek norite pirkti žvakių\"))\n",
    "kaina = 1\n",
    "\n",
    "if uzsakymas < 1000 :\n",
    "        print (f\" Užsakomų žvakių skaičius: {uzsakymas}vnt,\\n jų kaina: {uzsakymas*kaina}.00 Eur\")\n",
    "elif uzsakymas >= 1000 and uzsakymas < 2000 :\n",
    "    print(f\" Užsakomų žvakių skaičius: {uzsakymas} vnt,\\n jų kaina: {(uzsakymas*kaina*0.97):.2f} Eur\")\n",
    "elif uzsakymas >= 2000 :\n",
    "    print(f\" Užsakomų žvakių skaičius: {uzsakymas} vnt,\\n jų kaina: {(uzsakymas*kaina*0.96):.2f} Eur\")\n"
   ]
  },
  {
   "cell_type": "code",
   "execution_count": null,
   "metadata": {},
   "outputs": [],
   "source": [
    "#2Paprašykite vartotojo įvesti tris skaičius. Suskaičiuokite įvesčių aritmetinį vidurkį. Ir aritmetinį vidurkį atmetus tas reikšmes,\n",
    "#kurios yra mažesnės nei 10 arba didesnės nei 90. Abu vidurkius atspausdinkite. \n",
    "sk1 = int(input(\"Įveskite pirmą skaičių: \"))\n",
    "sk2 = int(input(\"Įveskite antrą skaičių: \"))\n",
    "sk3 = int(input(\"Įveskite trečią skaičių: \"))\n",
    "#(sk1 + sk2 + sk3) / 3\n",
    "# masyvas = [sk1, sk2, sk3]\n",
    "vidurkis = int((sk1 + sk2 + sk3) / len(masyvas))\n",
    "\n",
    "print(sk1,sk2,sk3,\"Vidurkis=\",vidurkis) #,sep=\", \")\n",
    "suma = 0\n",
    "kiekis = 0\n",
    "\n",
    "if sk1>=10 and sk1<=90 :\n",
    "   suma = suma + sk1 #trumpiau galima: suma += sk1\n",
    "   kiekis += 1\n",
    "   \n",
    "if sk2<=90 and sk2>= 10 :\n",
    "    suma += sk2\n",
    "    kiekis += 1\n",
    "   \n",
    "if sk3<=90 and sk2>= 10 : \n",
    "    suma += sk3\n",
    "    kiekis += 1\n",
    "else: print(\"Netinkamos reiksmes\")\n",
    "   \n",
    "print(f\"gaunasi {suma / kiekis}\") "
   ]
  },
  {
   "cell_type": "code",
   "execution_count": 233,
   "metadata": {},
   "outputs": [
    {
     "name": "stdout",
     "output_type": "stream",
     "text": [
      "[1, 2, 1, 0]\n",
      "Įvesta nulių: 0\n",
      "Įvesta vienetų:2\n",
      "Įvesta dvejetu:1\n"
     ]
    }
   ],
   "source": [
    "#3Vartotojas įveda keturis skaičius, kurie privalo būti nuo 0 iki 2. Suskaičiuokite kiek yra įvesta nulių, vienetų ir dvejetų.\n",
    "sk1=int(input(\"Įveskite pirmą skaičių nuo 0 iki 2: \")) \n",
    "sk2=int(input(\"Įveskite antrą skaičių nuo 0 iki 2: \")) \n",
    "sk3=int(input(\"Įveskite trecią skaičių nuo 0 iki 2: \")) \n",
    "sk4=int(input(\"Įveskite ketvirtą skaičių nuo 0 iki 2: \")) \n",
    "\n",
    "masyvas = [sk1,sk2,sk3,sk4]\n",
    "print(masyvas)\n",
    "# print(f\"Įvesta nulių: {masyvas.count(0)}\\nĮvesta vienetų:{masyvas.count(1)}\\nĮvesta dvejetu:{masyvas.count(2)}\")\n",
    "nuliai = 0\n",
    "vienetai = 0\n",
    "dvejetai = 0\n",
    "\n",
    "if sk1 == 0 :\n",
    "    nuliai += 1\n",
    "if sk1 == 1 :\n",
    "    vienetai += 1\n",
    "if sk1 == 2 :\n",
    "    dvejetai += 1\n",
    "\n",
    "if sk2 == 0 :\n",
    "    nuliai += 1\n",
    "if sk2 == 1 :\n",
    "    vienetai += 1\n",
    "if sk2 == 2:\n",
    "    dvejetai += 1\n",
    "\n",
    "if sk3 == 0 :\n",
    "    nuliai += 1\n",
    "if sk3 == 1 :\n",
    "    vienetai += 1\n",
    "if sk3 == 2 :\n",
    "    dvejetai += 1\n",
    "print(f\"Įvesta nulių: {nuliai}\\nĮvesta vienetų:{vienetai}\\nĮvesta dvejetu:{dvejetai}\")    "
   ]
  },
  {
   "cell_type": "code",
   "execution_count": 235,
   "metadata": {},
   "outputs": [
    {
     "name": "stdout",
     "output_type": "stream",
     "text": [
      "vidurine yra: 5\n"
     ]
    }
   ],
   "source": [
    "#Vartotojas įveda tris skaičius. Raskite ir atspausdinkite vidurinį skaičių.\n",
    "sk1 = int(input(\"Įveskite pirmą skaičių: \"))\n",
    "sk2 = int(input(\"Įveskite antrą skaičių: \"))\n",
    "sk3 = int(input(\"Įveskite trečią skaičių: \"))\n",
    "\n",
    "max = max(sk1, sk2, sk3)\n",
    "min = min(sk1, sk2, sk3)\n",
    "print(f\"vidurine yra: {(sk1 + sk2 + sk3)-(min + max)}\")"
   ]
  }
 ],
 "metadata": {
  "kernelspec": {
   "display_name": "Python 3",
   "language": "python",
   "name": "python3"
  },
  "language_info": {
   "codemirror_mode": {
    "name": "ipython",
    "version": 3
   },
   "file_extension": ".py",
   "mimetype": "text/x-python",
   "name": "python",
   "nbconvert_exporter": "python",
   "pygments_lexer": "ipython3",
   "version": "3.13.0"
  }
 },
 "nbformat": 4,
 "nbformat_minor": 2
}
