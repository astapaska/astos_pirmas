{
 "cells": [
  {
   "cell_type": "code",
   "execution_count": 13,
   "metadata": {},
   "outputs": [
    {
     "name": "stdout",
     "output_type": "stream",
     "text": [
      "Mokinys: Vardis Pavardas\n",
      "Pažymiai: [8, 5, 9, 5]\n",
      "Pažymių vidurkis: 6.75\n",
      "Didžiausias pažymys: 9\n",
      "Mažiausias pažymys: 5\n"
     ]
    }
   ],
   "source": [
    "#Sukurkite Mokinys klasę, kuri turės mokinio vardą, pavardę ir sąrašą pažymių. \n",
    "#Įtraukite metodus, kurie skaičiuotų vidurkį, didžiausią ir mažiausią pažymį\n",
    "class Mokinys:\n",
    "    def __init__(self, vardas, pavarde, pazymiai):\n",
    "        self.vardas = vardas\n",
    "        self.pavarde = pavarde\n",
    "        self.pazymiai = pazymiai\n",
    "\n",
    "    def get_vidurki(self):\n",
    "        # if len(self.pazymiai) == 0:\n",
    "        #     return 0  # Jei pažymių nėra, grąžiname 0\n",
    "        return sum(self.pazymiai) / len(self.pazymiai)\n",
    "\n",
    "    def didziausias_pazymys(self):\n",
    "        if len(self.pazymiai) == 0:\n",
    "            return None  # Jei pažymių nėra, grąžiname None\n",
    "        return max(self.pazymiai)\n",
    "\n",
    "    def maziausias_pazymys(self):\n",
    "        if len(self.pazymiai) == 0:\n",
    "            return None  # Jei pažymių nėra, grąžiname None\n",
    "        return min(self.pazymiai)\n",
    "\n",
    "\n",
    "mokinys1 = Mokinys(\"Vardis\", \"Pavardas\", [8, 5, 9, 5])\n",
    "#mokinys2 = Mokinys(\"Varde\", \"Pavardaite\", [10, 7]) \n",
    "\n",
    "print(f\"Mokinys: {mokinys1.vardas} {mokinys1.pavarde}\")\n",
    "print(f\"Pažymiai: {mokinys1.pazymiai}\")\n",
    "\n",
    "#avg_pazym = mokinys1.skaiciuoti_vidurki()\n",
    "print(f\"Pažymių vidurkis: {mokinys1.get_vidurki():.2f}\")\n",
    "\n",
    "#max_pazym = mokinys1.didziausias_pazymys()\n",
    "print(f\"Didžiausias pažymys: {mokinys1.didziausias_pazymys()}\")\n",
    "\n",
    "print(f\"Mažiausias pažymys: {mokinys1.maziausias_pazymys()}\")"
   ]
  },
  {
   "cell_type": "code",
   "execution_count": null,
   "metadata": {},
   "outputs": [
    {
     "name": "stdout",
     "output_type": "stream",
     "text": [
      "Mokinys: Varde Pavardaite, bendras pažymių vidurkis: 8.33\n"
     ]
    }
   ],
   "source": [
    "#Sukurkite Abiturientas klasę, kuri paveldi Mokinys klasę ir prideda papildomą funkcionalumą, pvz., \n",
    "#gebėjimą pridėti egzamino rezultatus ir skaičiuoti bendrą vidurkį, įskaitant ir egzamino rezultatus. \n",
    "#ZR. sprendima lap.25 d.\n",
    "class Abiturientas(Mokinys):\n",
    "    def __init__(self, vardas, pavarde, pazymiai, egzaminas):\n",
    "        super().__init__(vardas, pavarde, pazymiai)\n",
    "        self.egzaminas=egzaminas\n",
    "\n",
    "    def b_vidurkis(self):\n",
    "        return sum(self.pazymiai, self.egzaminas) / (len(self.pazymiai) +1)\n",
    "    \n",
    "mokinys2 = Abiturientas(\"Varde\", \"Pavardaite\", [7, 10], 8) \n",
    "print(f\"Mokinys: {mokinys2.vardas} {mokinys2.pavarde}, bendras pažymių vidurkis: {mokinys2.b_vidurkis():.2f}\")\n",
    "    \n"
   ]
  },
  {
   "cell_type": "code",
   "execution_count": 25,
   "metadata": {},
   "outputs": [
    {
     "name": "stdout",
     "output_type": "stream",
     "text": [
      "<__main__.Mokykla object at 0x000001E21F7E2BA0>\n"
     ]
    },
    {
     "ename": "TypeError",
     "evalue": "Asmuo.__init__() takes 3 positional arguments but 4 were given",
     "output_type": "error",
     "traceback": [
      "\u001b[1;31m---------------------------------------------------------------------------\u001b[0m",
      "\u001b[1;31mTypeError\u001b[0m                                 Traceback (most recent call last)",
      "Cell \u001b[1;32mIn[25], line 19\u001b[0m\n\u001b[0;32m     17\u001b[0m mokykla \u001b[38;5;241m=\u001b[39m Mokykla()\n\u001b[0;32m     18\u001b[0m \u001b[38;5;28mprint\u001b[39m(mokykla)\n\u001b[1;32m---> 19\u001b[0m mokykla\u001b[38;5;241m.\u001b[39mnew_student(\u001b[43mMokinys\u001b[49m\u001b[43m(\u001b[49m\u001b[38;5;124;43m\"\u001b[39;49m\u001b[38;5;124;43mAntanas\u001b[39;49m\u001b[38;5;124;43m\"\u001b[39;49m\u001b[43m,\u001b[49m\u001b[43m \u001b[49m\u001b[38;5;124;43m\"\u001b[39;49m\u001b[38;5;124;43mAntanaitis\u001b[39;49m\u001b[38;5;124;43m\"\u001b[39;49m\u001b[43m,\u001b[49m\u001b[43m[\u001b[49m\u001b[38;5;241;43m10\u001b[39;49m\u001b[43m,\u001b[49m\u001b[38;5;241;43m4\u001b[39;49m\u001b[43m,\u001b[49m\u001b[38;5;241;43m6\u001b[39;49m\u001b[43m,\u001b[49m\u001b[38;5;241;43m8\u001b[39;49m\u001b[43m]\u001b[49m\u001b[43m)\u001b[49m)\n",
      "\u001b[1;31mTypeError\u001b[0m: Asmuo.__init__() takes 3 positional arguments but 4 were given"
     ]
    }
   ],
   "source": [
    "#Sukurkite Mokykla klasę, kuri turės sąrašą Mokinys objektų. Įtraukite metodus, \n",
    "#kurie leistų pridėti naują mokinį, pašalinti mokinį, bei skaičiuoti visos mokyklos mokinių pažymių vidurkius.\n",
    "#pasitiksliti sprendima\n",
    "class Mokykla():\n",
    "        # def __init__(self):\n",
    "        #     self.mokiniai = []\n",
    "        # def add_mokinys(self, mokinys):\n",
    "        #     self.mokiniai.append(mokinys)  \n",
    "    students = []\n",
    "    def new_student(self, student):\n",
    "        self.students.append(student)\n",
    "    def avergage(self):\n",
    "        print(self.students[1].pazymiai)\n",
    "    def __st__(self):\n",
    "        return str(self.students)\n",
    "       \n",
    "mokykla = Mokykla()\n",
    "print(mokykla)\n",
    "mokykla.new_student(Mokinys(\"Antanas\", \"Antanaitis\",[10,4,6,8]))"
   ]
  },
  {
   "cell_type": "code",
   "execution_count": null,
   "metadata": {},
   "outputs": [
    {
     "name": "stdout",
     "output_type": "stream",
     "text": [
      "31\n",
      "Petras\n"
     ]
    }
   ],
   "source": [
    "#cia kazkoks pavyzdys\n",
    "class Asmuo():\n",
    "    def __init__(self, name, year_birth):\n",
    "        self.Name = name\n",
    "        self.Year = year_birth\n",
    "        self.Age = self.get_age()\n",
    "    def get_age(self):\n",
    "        return 2023 - self.Year\n",
    "class Mokinys(Asmuo):\n",
    "    pass\n",
    "c = Mokinys(\"Jonas\", 1992)\n",
    "print(c.Age)\n",
    "\n",
    "class Studentas(Asmuo):\n",
    " def __init__(self, vardas, metai):\n",
    "  super().__init__(vardas, metai) #!!!\n",
    "  self.Enroll = True\n",
    "s = Studentas(\"Petras\", 2002)\n",
    "print(s.Name)"
   ]
  },
  {
   "cell_type": "code",
   "execution_count": 26,
   "metadata": {},
   "outputs": [],
   "source": [
    "#Sukurkite klasę Vaisius, kuris turi: \n",
    "# savybę dydis rand 5 - 25; \n",
    "# savybę id rand 1000000 - 9999999 \n",
    "# savybę prakastas False \n",
    "#Sukurkite metodą prakasti(), kuris savybės prakąstas reikšmę keistų į True. \n",
    "#Sukurkite klasę Krepšys, kuri turi statinę savybę vaisiai, kuri yra sąrašas. \n",
    "# Klasėje Krepšys sukurkite metodą pripildyti(), kuris savybę vaisiai užpildytų 20-mi vaisiaus objektų ir išrūšiuotų juos pagal vaisiaus dydį nuo didž. iki mažiausio. \n",
    "# Klasėje Krepšys sukurti statinį metodą isimti(), kuris iš vaisiai masyvo išimtų (ištrintų iš masyvo) pirmą (didžiausią) vaisių ir jį grąžintų. \n",
    "# Išėmus kelis vaisius ir vėl paleidus metodą papildyti(), jis turi padaryti tai ką sako metodo pavadinimas - papildyti masyvą iki pilno (20 elementų), \n",
    "# o ne perrašyti visus vaisius iš naujo (tai galima stebėti pagal vaisių id). \n",
    "# Išorėje (globale) sukurti kintamąjį grauztukai kuris yra žodynas. \n",
    "# Iš krepšelio išimti vaisiai turi būti pridedami į šį objektą. Kaip raktus naudoti Vaisiaus objekte esančią id savybę. \n",
    "# Prieš patalpinant vaisių į grauztukai objektą, vaisius turi būti “prakąstas”, Vaisius objekte paleidžiant prakasti() metodą.\n"
   ]
  }
 ],
 "metadata": {
  "kernelspec": {
   "display_name": "Python 3",
   "language": "python",
   "name": "python3"
  },
  "language_info": {
   "codemirror_mode": {
    "name": "ipython",
    "version": 3
   },
   "file_extension": ".py",
   "mimetype": "text/x-python",
   "name": "python",
   "nbconvert_exporter": "python",
   "pygments_lexer": "ipython3",
   "version": "3.13.0"
  }
 },
 "nbformat": 4,
 "nbformat_minor": 2
}
