{
 "cells": [
  {
   "cell_type": "code",
   "execution_count": 11,
   "metadata": {},
   "outputs": [
    {
     "name": "stdout",
     "output_type": "stream",
     "text": [
      "sqjunga: {1, 2, 3, 4, 5, 6, 'b', 'a'}\n",
      "bendri: {1, 2, 3}\n",
      "skirtumai: {'a', 4}\n",
      "skirtumai: {4, 5, 6, 'b', 'a'}\n",
      "[1, 2, 3, 4, 5, 8]\n"
     ]
    }
   ],
   "source": [
    "a_set={1,2,3,4, 'a'}\n",
    "b_set={1,2,3,5,6,'b'}\n",
    "\n",
    "#raskite sąjungą šių rinkinių;\n",
    "print(\"sqjunga:\",a_set.union(b_set))\n",
    "\n",
    "#raskite, kokie elementai buvo bendri abiems rinkiniams?\n",
    "print(\"bendri:\",a_set.intersection(b_set))\n",
    "\n",
    "#raskite, kokiais elementais skiriasi a_set nuo b_set?\n",
    "print(\"skirtumai:\",a_set.difference(b_set))\n",
    "\n",
    "#pašalinkite bendrus elementus tarp a_set ir b_set, likusius elementus išspausdinkite.\n",
    "print(\"skirtumai:\",a_set.symmetric_difference(b_set))\n",
    "\n",
    "l = [1,1,2,2,3,4,5,5,5,8,8,1,2]\n",
    "#Pašalinkite pasikartojančius elementus iš šio l sąrašo\n",
    "r=set(l)\n",
    "print(\"be pasikartojanciu: \",list(r))\n"
   ]
  },
  {
   "cell_type": "code",
   "execution_count": 42,
   "metadata": {},
   "outputs": [
    {
     "name": "stdout",
     "output_type": "stream",
     "text": [
      "Pelnas pardavus prekes: 91237.0 Eur\n"
     ]
    }
   ],
   "source": [
    "#ŽODYNAI\n",
    "#Paskaičiuoti pelną pardavus visas prekes. Informacija apie kainą ir kiekius yra pateikiama kaip žodynai (dictionary):\n",
    "d1 = {\"cost_price\": 32.67,\n",
    "    \"sell_price\": 45.00,\n",
    "    \"inventory\": 1200}\n",
    "d2 = {\"cost_price\": 225.89,\n",
    "    \"sell_price\": 550.00,\n",
    "    \"inventory\": 100}\n",
    "d3 = {\"cost_price\": 2.77,\n",
    "    \"sell_price\": 7.95,\n",
    "    \"inventory\": 8500}\n",
    " \n",
    "\n",
    "pelnas = (d1[\"sell_price\"] - d1[\"cost_price\"] )*d1[\"inventory\"]  # kai pirmq karta nurodom kam lygu, tai taip supranta kad tai skaicius\n",
    "pelnas += (d2[\"sell_price\"] - d2[\"cost_price\"] )*d2[\"inventory\"]\n",
    "pelnas += (d3[\"sell_price\"] - d3[\"cost_price\"] )*d3[\"inventory\"]\n",
    "print(\"Pelnas pardavus prekes:\",pelnas ,\"Eur\")\n",
    "#print(f\"Pelnas pardavus prekes:({pelnas1} + {pelnas2} + {pelnas3}),Eur\")"
   ]
  },
  {
   "cell_type": "code",
   "execution_count": 41,
   "metadata": {},
   "outputs": [
    {
     "ename": "TypeError",
     "evalue": "'int' object is not iterable",
     "output_type": "error",
     "traceback": [
      "\u001b[1;31m---------------------------------------------------------------------------\u001b[0m",
      "\u001b[1;31mTypeError\u001b[0m                                 Traceback (most recent call last)",
      "Cell \u001b[1;32mIn[41], line 10\u001b[0m\n\u001b[0;32m      7\u001b[0m \u001b[38;5;66;03m# pelnas=0\u001b[39;00m\n\u001b[0;32m      9\u001b[0m \u001b[38;5;28;01mfor\u001b[39;00m visas_pelnas \u001b[38;5;129;01min\u001b[39;00m d :\n\u001b[1;32m---> 10\u001b[0m     \u001b[43md\u001b[49m\u001b[38;5;241;43m+\u001b[39;49m\u001b[38;5;241;43m=\u001b[39;49m\u001b[38;5;241;43m1\u001b[39;49m\n\u001b[0;32m     11\u001b[0m     \u001b[38;5;28mprint\u001b[39m((d[\u001b[38;5;124m\"\u001b[39m\u001b[38;5;124msell_price\u001b[39m\u001b[38;5;124m\"\u001b[39m]\u001b[38;5;241m-\u001b[39md[\u001b[38;5;124m\"\u001b[39m\u001b[38;5;124mcost_price\u001b[39m\u001b[38;5;124m\"\u001b[39m])\u001b[38;5;241m*\u001b[39md[\u001b[38;5;124m\"\u001b[39m\u001b[38;5;124minventory\u001b[39m\u001b[38;5;124m\"\u001b[39m])\n",
      "\u001b[1;31mTypeError\u001b[0m: 'int' object is not iterable"
     ]
    }
   ],
   "source": [
    "#o kaip parašyru su ciklu???\n",
    "d1 = {\"cost_price\": 32.6,    \"sell_price\": 45.00,    \"inventory\": 1200}\n",
    "d2 = {\"cost_price\": 225.89,    \"sell_price\": 550.00,    \"inventory\": 100}\n",
    "d3 = {\"cost_price\": 2.77,    \"sell_price\": 7.95,    \"inventory\": 8500}\n",
    "\n",
    "d=[d1,d2,d3]\n",
    "# pelnas=0\n",
    "\n",
    "for visas_pelnas in d :\n",
    "    d+=1\n",
    "    print((d[\"sell_price\"]-d[\"cost_price\"])*d[\"inventory\"])\n"
   ]
  }
 ],
 "metadata": {
  "kernelspec": {
   "display_name": "Python 3",
   "language": "python",
   "name": "python3"
  },
  "language_info": {
   "codemirror_mode": {
    "name": "ipython",
    "version": 3
   },
   "file_extension": ".py",
   "mimetype": "text/x-python",
   "name": "python",
   "nbconvert_exporter": "python",
   "pygments_lexer": "ipython3",
   "version": "3.13.0"
  }
 },
 "nbformat": 4,
 "nbformat_minor": 2
}
